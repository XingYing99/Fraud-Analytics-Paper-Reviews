{
 "cells": [
  {
   "cell_type": "code",
   "execution_count": 1,
   "metadata": {
    "colab": {
     "base_uri": "https://localhost:8080/"
    },
    "executionInfo": {
     "elapsed": 3277,
     "status": "ok",
     "timestamp": 1636021394382,
     "user": {
      "displayName": "Xing Ying",
      "photoUrl": "https://lh3.googleusercontent.com/a/default-user=s64",
      "userId": "06888404409835225770"
     },
     "user_tz": -480
    },
    "id": "yHbZ_wbHEEaf",
    "outputId": "0d92a9d1-51bf-426e-882a-701e93513eb9"
   },
   "outputs": [],
   "source": [
    "import numpy as np\n",
    "import pandas as pd\n",
    "import tensorflow as tf\n",
    "from tensorflow.keras import layers\n",
    "from matplotlib import pyplot as plt\n",
    "import seaborn as sns\n",
    "from imblearn.over_sampling import RandomOverSampler\n",
    "from sklearn import metrics\n",
    "from collections import Counter\n",
    "from sklearn.tree import DecisionTreeClassifier\n",
    "from sklearn.svm import SVC\n",
    "from scipy import stats\n",
    "from sklearn.model_selection import train_test_split\n",
    "from sklearn.model_selection import train_test_split, GridSearchCV, StratifiedKFold\n",
    "from sklearn.metrics import roc_curve, precision_recall_curve, auc, make_scorer, recall_score, accuracy_score, precision_score, confusion_matrix\n",
    "from sklearn import metrics\n",
    "from sklearn.metrics import classification_report, confusion_matrix\n",
    "\n"
   ]
  },
  {
   "cell_type": "code",
   "execution_count": 2,
   "metadata": {
    "colab": {
     "base_uri": "https://localhost:8080/"
    },
    "executionInfo": {
     "elapsed": 23838,
     "status": "ok",
     "timestamp": 1636021418217,
     "user": {
      "displayName": "Xing Ying",
      "photoUrl": "https://lh3.googleusercontent.com/a/default-user=s64",
      "userId": "06888404409835225770"
     },
     "user_tz": -480
    },
    "id": "ufEtwThcEEan",
    "outputId": "69fd89e4-801f-4a2e-9930-95d0fd5cb7ca"
   },
   "outputs": [],
   "source": [
    "# loading the dataset\n",
    "\n",
    "# from google.colab import drive\n",
    "# drive.mount('/content/gdrive')\n",
    "# df=pd.read_csv('gdrive/My Drive/Colab Notebooks/BT4012 Project/ccFraud.csv')\n",
    "df=pd.read_csv('ccFraud.csv')\n"
   ]
  },
  {
   "cell_type": "code",
   "execution_count": null,
   "metadata": {
    "colab": {
     "base_uri": "https://localhost:8080/",
     "height": 423
    },
    "executionInfo": {
     "elapsed": 8,
     "status": "ok",
     "timestamp": 1636021418218,
     "user": {
      "displayName": "Xing Ying",
      "photoUrl": "https://lh3.googleusercontent.com/a/default-user=s64",
      "userId": "06888404409835225770"
     },
     "user_tz": -480
    },
    "id": "6h7Xe1TEEEaq",
    "outputId": "dd854395-32d0-40df-91d1-1d1600cdc585",
    "scrolled": true
   },
   "outputs": [
    {
     "data": {
      "text/html": [
       "<div>\n",
       "<style scoped>\n",
       "    .dataframe tbody tr th:only-of-type {\n",
       "        vertical-align: middle;\n",
       "    }\n",
       "\n",
       "    .dataframe tbody tr th {\n",
       "        vertical-align: top;\n",
       "    }\n",
       "\n",
       "    .dataframe thead th {\n",
       "        text-align: right;\n",
       "    }\n",
       "</style>\n",
       "<table border=\"1\" class=\"dataframe\">\n",
       "  <thead>\n",
       "    <tr style=\"text-align: right;\">\n",
       "      <th></th>\n",
       "      <th>custID</th>\n",
       "      <th>gender</th>\n",
       "      <th>state</th>\n",
       "      <th>cardholder</th>\n",
       "      <th>balance</th>\n",
       "      <th>numTrans</th>\n",
       "      <th>numIntlTrans</th>\n",
       "      <th>creditLine</th>\n",
       "      <th>fraudRisk</th>\n",
       "    </tr>\n",
       "  </thead>\n",
       "  <tbody>\n",
       "    <tr>\n",
       "      <th>0</th>\n",
       "      <td>1</td>\n",
       "      <td>1</td>\n",
       "      <td>35</td>\n",
       "      <td>1</td>\n",
       "      <td>3000</td>\n",
       "      <td>4</td>\n",
       "      <td>14</td>\n",
       "      <td>2</td>\n",
       "      <td>0</td>\n",
       "    </tr>\n",
       "    <tr>\n",
       "      <th>1</th>\n",
       "      <td>2</td>\n",
       "      <td>2</td>\n",
       "      <td>2</td>\n",
       "      <td>1</td>\n",
       "      <td>0</td>\n",
       "      <td>9</td>\n",
       "      <td>0</td>\n",
       "      <td>18</td>\n",
       "      <td>0</td>\n",
       "    </tr>\n",
       "    <tr>\n",
       "      <th>2</th>\n",
       "      <td>3</td>\n",
       "      <td>2</td>\n",
       "      <td>2</td>\n",
       "      <td>1</td>\n",
       "      <td>0</td>\n",
       "      <td>27</td>\n",
       "      <td>9</td>\n",
       "      <td>16</td>\n",
       "      <td>0</td>\n",
       "    </tr>\n",
       "    <tr>\n",
       "      <th>3</th>\n",
       "      <td>4</td>\n",
       "      <td>1</td>\n",
       "      <td>15</td>\n",
       "      <td>1</td>\n",
       "      <td>0</td>\n",
       "      <td>12</td>\n",
       "      <td>0</td>\n",
       "      <td>5</td>\n",
       "      <td>0</td>\n",
       "    </tr>\n",
       "    <tr>\n",
       "      <th>4</th>\n",
       "      <td>5</td>\n",
       "      <td>1</td>\n",
       "      <td>46</td>\n",
       "      <td>1</td>\n",
       "      <td>0</td>\n",
       "      <td>11</td>\n",
       "      <td>16</td>\n",
       "      <td>7</td>\n",
       "      <td>0</td>\n",
       "    </tr>\n",
       "    <tr>\n",
       "      <th>...</th>\n",
       "      <td>...</td>\n",
       "      <td>...</td>\n",
       "      <td>...</td>\n",
       "      <td>...</td>\n",
       "      <td>...</td>\n",
       "      <td>...</td>\n",
       "      <td>...</td>\n",
       "      <td>...</td>\n",
       "      <td>...</td>\n",
       "    </tr>\n",
       "    <tr>\n",
       "      <th>9999995</th>\n",
       "      <td>9999996</td>\n",
       "      <td>1</td>\n",
       "      <td>37</td>\n",
       "      <td>1</td>\n",
       "      <td>0</td>\n",
       "      <td>10</td>\n",
       "      <td>0</td>\n",
       "      <td>9</td>\n",
       "      <td>0</td>\n",
       "    </tr>\n",
       "    <tr>\n",
       "      <th>9999996</th>\n",
       "      <td>9999997</td>\n",
       "      <td>1</td>\n",
       "      <td>16</td>\n",
       "      <td>1</td>\n",
       "      <td>0</td>\n",
       "      <td>33</td>\n",
       "      <td>2</td>\n",
       "      <td>4</td>\n",
       "      <td>0</td>\n",
       "    </tr>\n",
       "    <tr>\n",
       "      <th>9999997</th>\n",
       "      <td>9999998</td>\n",
       "      <td>1</td>\n",
       "      <td>24</td>\n",
       "      <td>1</td>\n",
       "      <td>9000</td>\n",
       "      <td>38</td>\n",
       "      <td>0</td>\n",
       "      <td>8</td>\n",
       "      <td>0</td>\n",
       "    </tr>\n",
       "    <tr>\n",
       "      <th>9999998</th>\n",
       "      <td>9999999</td>\n",
       "      <td>1</td>\n",
       "      <td>28</td>\n",
       "      <td>1</td>\n",
       "      <td>7000</td>\n",
       "      <td>20</td>\n",
       "      <td>19</td>\n",
       "      <td>6</td>\n",
       "      <td>0</td>\n",
       "    </tr>\n",
       "    <tr>\n",
       "      <th>9999999</th>\n",
       "      <td>10000000</td>\n",
       "      <td>1</td>\n",
       "      <td>23</td>\n",
       "      <td>1</td>\n",
       "      <td>0</td>\n",
       "      <td>13</td>\n",
       "      <td>0</td>\n",
       "      <td>7</td>\n",
       "      <td>0</td>\n",
       "    </tr>\n",
       "  </tbody>\n",
       "</table>\n",
       "<p>10000000 rows × 9 columns</p>\n",
       "</div>"
      ],
      "text/plain": [
       "           custID  gender  state  ...  numIntlTrans  creditLine  fraudRisk\n",
       "0               1       1     35  ...            14           2          0\n",
       "1               2       2      2  ...             0          18          0\n",
       "2               3       2      2  ...             9          16          0\n",
       "3               4       1     15  ...             0           5          0\n",
       "4               5       1     46  ...            16           7          0\n",
       "...           ...     ...    ...  ...           ...         ...        ...\n",
       "9999995   9999996       1     37  ...             0           9          0\n",
       "9999996   9999997       1     16  ...             2           4          0\n",
       "9999997   9999998       1     24  ...             0           8          0\n",
       "9999998   9999999       1     28  ...            19           6          0\n",
       "9999999  10000000       1     23  ...             0           7          0\n",
       "\n",
       "[10000000 rows x 9 columns]"
      ]
     },
     "execution_count": 4,
     "metadata": {},
     "output_type": "execute_result"
    }
   ],
   "source": [
    "numerical_variables = [\"balance\",\"numTrans\",\"numIntlTrans\",\"creditLine\"]\n",
    "cat_variables = [\"gender\", \"state\" , \"cardholder\"]\n",
    "\n",
    "df"
   ]
  },
  {
   "cell_type": "markdown",
   "metadata": {
    "id": "yXnjL2w5EEat"
   },
   "source": [
    "#  Cardinality and unique count (for categorical descriptive analysis)"
   ]
  },
  {
   "cell_type": "code",
   "execution_count": null,
   "metadata": {
    "colab": {
     "base_uri": "https://localhost:8080/",
     "height": 1000
    },
    "executionInfo": {
     "elapsed": 5772,
     "status": "ok",
     "timestamp": 1636015505466,
     "user": {
      "displayName": "Xing Ying",
      "photoUrl": "https://lh3.googleusercontent.com/a/default-user=s64",
      "userId": "06888404409835225770"
     },
     "user_tz": -480
    },
    "id": "dKZz54qtEEax",
    "outputId": "e9fbfaa1-c245-429a-e9d0-a28b8839f413"
   },
   "outputs": [
    {
     "data": {
      "image/png": "[encoded data removed]",
      "text/plain": [
       "<Figure size 1152x1296 with 4 Axes>"
      ]
     },
     "metadata": {
      "needs_background": "light"
     },
     "output_type": "display_data"
    }
   ],
   "source": [
    "# Set up the matplotlib figure\n",
    "f, axes = plt.subplots(2, 2, figsize=(16,18), sharex=False)\n",
    "# sns.despine(left=True)\n",
    "var=[\"gender\", \"state\" , \"cardholder\",\"fraudRisk\"]\n",
    "for index, name in enumerate(var):\n",
    "    sns.countplot(x=name, data=df, ax=axes[index//2,index%2])\n",
    "    axes[index//2,index%2].set_title(name, fontsize=20)\n",
    "    axes[index//2,index%2].set_xticklabels(axes[index//2,index%2].get_xticklabels(), rotation=60)\n",
    "plt.tight_layout()"
   ]
  },
  {
   "cell_type": "code",
   "execution_count": null,
   "metadata": {
    "id": "8G90d7HUEEay"
   },
   "outputs": [],
   "source": []
  },
  {
   "cell_type": "code",
   "execution_count": null,
   "metadata": {
    "colab": {
     "base_uri": "https://localhost:8080/",
     "height": 175
    },
    "executionInfo": {
     "elapsed": 1311,
     "status": "ok",
     "timestamp": 1636015506773,
     "user": {
      "displayName": "Xing Ying",
      "photoUrl": "https://lh3.googleusercontent.com/a/default-user=s64",
      "userId": "06888404409835225770"
     },
     "user_tz": -480
    },
    "id": "X9C5ItOuEEaz",
    "outputId": "313ce82e-016b-4bf4-be3e-a9fd7be12a92"
   },
   "outputs": [
    {
     "data": {
      "text/html": [
       "<div>\n",
       "<style scoped>\n",
       "    .dataframe tbody tr th:only-of-type {\n",
       "        vertical-align: middle;\n",
       "    }\n",
       "\n",
       "    .dataframe tbody tr th {\n",
       "        vertical-align: top;\n",
       "    }\n",
       "\n",
       "    .dataframe thead th {\n",
       "        text-align: right;\n",
       "    }\n",
       "</style>\n",
       "<table border=\"1\" class=\"dataframe\">\n",
       "  <thead>\n",
       "    <tr style=\"text-align: right;\">\n",
       "      <th></th>\n",
       "      <th>min</th>\n",
       "      <th>Q1</th>\n",
       "      <th>Q2</th>\n",
       "      <th>Q3</th>\n",
       "      <th>max</th>\n",
       "      <th>range</th>\n",
       "      <th>IQR</th>\n",
       "    </tr>\n",
       "  </thead>\n",
       "  <tbody>\n",
       "    <tr>\n",
       "      <th>balance</th>\n",
       "      <td>0.0</td>\n",
       "      <td>0.0</td>\n",
       "      <td>3706.0</td>\n",
       "      <td>6000.0</td>\n",
       "      <td>41485.0</td>\n",
       "      <td>41485.0</td>\n",
       "      <td>6000.0</td>\n",
       "    </tr>\n",
       "    <tr>\n",
       "      <th>numTrans</th>\n",
       "      <td>0.0</td>\n",
       "      <td>10.0</td>\n",
       "      <td>19.0</td>\n",
       "      <td>39.0</td>\n",
       "      <td>100.0</td>\n",
       "      <td>100.0</td>\n",
       "      <td>29.0</td>\n",
       "    </tr>\n",
       "    <tr>\n",
       "      <th>numIntlTrans</th>\n",
       "      <td>0.0</td>\n",
       "      <td>0.0</td>\n",
       "      <td>0.0</td>\n",
       "      <td>4.0</td>\n",
       "      <td>60.0</td>\n",
       "      <td>60.0</td>\n",
       "      <td>4.0</td>\n",
       "    </tr>\n",
       "    <tr>\n",
       "      <th>creditLine</th>\n",
       "      <td>1.0</td>\n",
       "      <td>4.0</td>\n",
       "      <td>6.0</td>\n",
       "      <td>11.0</td>\n",
       "      <td>75.0</td>\n",
       "      <td>74.0</td>\n",
       "      <td>7.0</td>\n",
       "    </tr>\n",
       "  </tbody>\n",
       "</table>\n",
       "</div>"
      ],
      "text/plain": [
       "              min    Q1      Q2      Q3      max    range     IQR\n",
       "balance       0.0   0.0  3706.0  6000.0  41485.0  41485.0  6000.0\n",
       "numTrans      0.0  10.0    19.0    39.0    100.0    100.0    29.0\n",
       "numIntlTrans  0.0   0.0     0.0     4.0     60.0     60.0     4.0\n",
       "creditLine    1.0   4.0     6.0    11.0     75.0     74.0     7.0"
      ]
     },
     "execution_count": 6,
     "metadata": {},
     "output_type": "execute_result"
    }
   ],
   "source": [
    "quantile = df[numerical_variables].describe().loc[['min', '25%', '50%', '75%', 'max']].transpose()\n",
    "quantile.columns = ['min', 'Q1', 'Q2', 'Q3', 'max']\n",
    "quantile['range'] = quantile['max'] - quantile['min']\n",
    "quantile['IQR'] = quantile['Q3'] - quantile['Q1']\n",
    "quantile"
   ]
  },
  {
   "cell_type": "markdown",
   "metadata": {
    "id": "-1HYxKOkEEa0"
   },
   "source": [
    "# The paper have sampled 2% of the data with the same imbalance ratio for the experiment"
   ]
  },
  {
   "cell_type": "code",
   "execution_count": null,
   "metadata": {
    "colab": {
     "base_uri": "https://localhost:8080/"
    },
    "executionInfo": {
     "elapsed": 337,
     "status": "ok",
     "timestamp": 1636015524031,
     "user": {
      "displayName": "Xing Ying",
      "photoUrl": "https://lh3.googleusercontent.com/a/default-user=s64",
      "userId": "06888404409835225770"
     },
     "user_tz": -480
    },
    "id": "LFePrQJWHtY4",
    "outputId": "60b77692-264a-4a74-94f2-d20febbd4b0b"
   },
   "outputs": [
    {
     "data": {
      "text/plain": [
       "1.0518752915199978"
      ]
     },
     "execution_count": 8,
     "metadata": {},
     "output_type": "execute_result"
    }
   ],
   "source": [
    "df.fraudRisk.value_counts()[0]/(df.fraudRisk.value_counts()[1]*15)"
   ]
  },
  {
   "cell_type": "code",
   "execution_count": null,
   "metadata": {
    "id": "ZI836lL2EEa1"
   },
   "outputs": [],
   "source": [
    "#IMBALANCE RATIO\n",
    "ratio=df.fraudRisk.value_counts()[0]/df.fraudRisk.value_counts()[1]\n",
    "\n",
    "#15.778:1\n",
    "not_fraud_size=0.02*df.fraudRisk.value_counts()[0]\n",
    "fraud_size=(0.02*df.fraudRisk.value_counts()[1])\n",
    "\n",
    "not_fraud=df[df.fraudRisk==0].sample(frac=0.02)\n",
    "fraud=df[df.fraudRisk==1].sample(frac=0.02)"
   ]
  },
  {
   "cell_type": "code",
   "execution_count": null,
   "metadata": {
    "colab": {
     "base_uri": "https://localhost:8080/",
     "height": 1000
    },
    "executionInfo": {
     "elapsed": 512,
     "status": "ok",
     "timestamp": 1636021425599,
     "user": {
      "displayName": "Xing Ying",
      "photoUrl": "https://lh3.googleusercontent.com/a/default-user=s64",
      "userId": "06888404409835225770"
     },
     "user_tz": -480
    },
    "id": "fsUd93-SEEa3",
    "outputId": "e7c7db18-d9d4-4ef9-f0b4-abfc07a1cd9b"
   },
   "outputs": [
    {
     "data": {
      "text/html": [
       "<div>\n",
       "<style scoped>\n",
       "    .dataframe tbody tr th:only-of-type {\n",
       "        vertical-align: middle;\n",
       "    }\n",
       "\n",
       "    .dataframe tbody tr th {\n",
       "        vertical-align: top;\n",
       "    }\n",
       "\n",
       "    .dataframe thead th {\n",
       "        text-align: right;\n",
       "    }\n",
       "</style>\n",
       "<table border=\"1\" class=\"dataframe\">\n",
       "  <thead>\n",
       "    <tr style=\"text-align: right;\">\n",
       "      <th></th>\n",
       "      <th>custID</th>\n",
       "      <th>gender</th>\n",
       "      <th>state</th>\n",
       "      <th>cardholder</th>\n",
       "      <th>balance</th>\n",
       "      <th>numTrans</th>\n",
       "      <th>numIntlTrans</th>\n",
       "      <th>creditLine</th>\n",
       "      <th>fraudRisk</th>\n",
       "    </tr>\n",
       "  </thead>\n",
       "  <tbody>\n",
       "    <tr>\n",
       "      <th>5341708</th>\n",
       "      <td>8946443</td>\n",
       "      <td>2</td>\n",
       "      <td>41</td>\n",
       "      <td>1</td>\n",
       "      <td>3186</td>\n",
       "      <td>34</td>\n",
       "      <td>2</td>\n",
       "      <td>8</td>\n",
       "      <td>0</td>\n",
       "    </tr>\n",
       "    <tr>\n",
       "      <th>7214692</th>\n",
       "      <td>9231015</td>\n",
       "      <td>2</td>\n",
       "      <td>28</td>\n",
       "      <td>1</td>\n",
       "      <td>3000</td>\n",
       "      <td>16</td>\n",
       "      <td>0</td>\n",
       "      <td>2</td>\n",
       "      <td>0</td>\n",
       "    </tr>\n",
       "    <tr>\n",
       "      <th>6409449</th>\n",
       "      <td>772280</td>\n",
       "      <td>2</td>\n",
       "      <td>46</td>\n",
       "      <td>1</td>\n",
       "      <td>6000</td>\n",
       "      <td>36</td>\n",
       "      <td>2</td>\n",
       "      <td>5</td>\n",
       "      <td>0</td>\n",
       "    </tr>\n",
       "    <tr>\n",
       "      <th>5249316</th>\n",
       "      <td>4510513</td>\n",
       "      <td>1</td>\n",
       "      <td>4</td>\n",
       "      <td>1</td>\n",
       "      <td>6000</td>\n",
       "      <td>5</td>\n",
       "      <td>3</td>\n",
       "      <td>5</td>\n",
       "      <td>0</td>\n",
       "    </tr>\n",
       "    <tr>\n",
       "      <th>9724281</th>\n",
       "      <td>6407367</td>\n",
       "      <td>1</td>\n",
       "      <td>48</td>\n",
       "      <td>1</td>\n",
       "      <td>5000</td>\n",
       "      <td>29</td>\n",
       "      <td>1</td>\n",
       "      <td>4</td>\n",
       "      <td>0</td>\n",
       "    </tr>\n",
       "    <tr>\n",
       "      <th>2443753</th>\n",
       "      <td>8984923</td>\n",
       "      <td>1</td>\n",
       "      <td>49</td>\n",
       "      <td>1</td>\n",
       "      <td>2000</td>\n",
       "      <td>27</td>\n",
       "      <td>6</td>\n",
       "      <td>1</td>\n",
       "      <td>0</td>\n",
       "    </tr>\n",
       "    <tr>\n",
       "      <th>750128</th>\n",
       "      <td>9339261</td>\n",
       "      <td>1</td>\n",
       "      <td>46</td>\n",
       "      <td>2</td>\n",
       "      <td>4000</td>\n",
       "      <td>54</td>\n",
       "      <td>2</td>\n",
       "      <td>3</td>\n",
       "      <td>0</td>\n",
       "    </tr>\n",
       "    <tr>\n",
       "      <th>4518410</th>\n",
       "      <td>2785124</td>\n",
       "      <td>1</td>\n",
       "      <td>45</td>\n",
       "      <td>1</td>\n",
       "      <td>11000</td>\n",
       "      <td>10</td>\n",
       "      <td>0</td>\n",
       "      <td>10</td>\n",
       "      <td>0</td>\n",
       "    </tr>\n",
       "    <tr>\n",
       "      <th>5600738</th>\n",
       "      <td>8038238</td>\n",
       "      <td>2</td>\n",
       "      <td>15</td>\n",
       "      <td>1</td>\n",
       "      <td>3000</td>\n",
       "      <td>4</td>\n",
       "      <td>0</td>\n",
       "      <td>2</td>\n",
       "      <td>0</td>\n",
       "    </tr>\n",
       "    <tr>\n",
       "      <th>5770247</th>\n",
       "      <td>1584138</td>\n",
       "      <td>2</td>\n",
       "      <td>35</td>\n",
       "      <td>1</td>\n",
       "      <td>0</td>\n",
       "      <td>20</td>\n",
       "      <td>0</td>\n",
       "      <td>3</td>\n",
       "      <td>0</td>\n",
       "    </tr>\n",
       "    <tr>\n",
       "      <th>5725593</th>\n",
       "      <td>7751256</td>\n",
       "      <td>1</td>\n",
       "      <td>20</td>\n",
       "      <td>1</td>\n",
       "      <td>3000</td>\n",
       "      <td>15</td>\n",
       "      <td>6</td>\n",
       "      <td>2</td>\n",
       "      <td>0</td>\n",
       "    </tr>\n",
       "    <tr>\n",
       "      <th>3270938</th>\n",
       "      <td>6566682</td>\n",
       "      <td>1</td>\n",
       "      <td>36</td>\n",
       "      <td>1</td>\n",
       "      <td>3676</td>\n",
       "      <td>8</td>\n",
       "      <td>11</td>\n",
       "      <td>37</td>\n",
       "      <td>0</td>\n",
       "    </tr>\n",
       "    <tr>\n",
       "      <th>2166079</th>\n",
       "      <td>7110276</td>\n",
       "      <td>2</td>\n",
       "      <td>34</td>\n",
       "      <td>1</td>\n",
       "      <td>4000</td>\n",
       "      <td>3</td>\n",
       "      <td>22</td>\n",
       "      <td>3</td>\n",
       "      <td>0</td>\n",
       "    </tr>\n",
       "    <tr>\n",
       "      <th>1262777</th>\n",
       "      <td>3278780</td>\n",
       "      <td>1</td>\n",
       "      <td>35</td>\n",
       "      <td>1</td>\n",
       "      <td>4743</td>\n",
       "      <td>5</td>\n",
       "      <td>0</td>\n",
       "      <td>36</td>\n",
       "      <td>0</td>\n",
       "    </tr>\n",
       "    <tr>\n",
       "      <th>8350249</th>\n",
       "      <td>6612023</td>\n",
       "      <td>1</td>\n",
       "      <td>13</td>\n",
       "      <td>1</td>\n",
       "      <td>5024</td>\n",
       "      <td>5</td>\n",
       "      <td>0</td>\n",
       "      <td>7</td>\n",
       "      <td>0</td>\n",
       "    </tr>\n",
       "    <tr>\n",
       "      <th>7046669</th>\n",
       "      <td>7439892</td>\n",
       "      <td>1</td>\n",
       "      <td>25</td>\n",
       "      <td>1</td>\n",
       "      <td>0</td>\n",
       "      <td>13</td>\n",
       "      <td>9</td>\n",
       "      <td>4</td>\n",
       "      <td>0</td>\n",
       "    </tr>\n",
       "    <tr>\n",
       "      <th>5813173</th>\n",
       "      <td>6957714</td>\n",
       "      <td>2</td>\n",
       "      <td>44</td>\n",
       "      <td>1</td>\n",
       "      <td>0</td>\n",
       "      <td>41</td>\n",
       "      <td>0</td>\n",
       "      <td>15</td>\n",
       "      <td>0</td>\n",
       "    </tr>\n",
       "    <tr>\n",
       "      <th>3429561</th>\n",
       "      <td>7081513</td>\n",
       "      <td>1</td>\n",
       "      <td>19</td>\n",
       "      <td>1</td>\n",
       "      <td>3000</td>\n",
       "      <td>36</td>\n",
       "      <td>2</td>\n",
       "      <td>2</td>\n",
       "      <td>0</td>\n",
       "    </tr>\n",
       "    <tr>\n",
       "      <th>9380541</th>\n",
       "      <td>6329045</td>\n",
       "      <td>1</td>\n",
       "      <td>21</td>\n",
       "      <td>1</td>\n",
       "      <td>6000</td>\n",
       "      <td>16</td>\n",
       "      <td>10</td>\n",
       "      <td>5</td>\n",
       "      <td>0</td>\n",
       "    </tr>\n",
       "    <tr>\n",
       "      <th>8250695</th>\n",
       "      <td>4279380</td>\n",
       "      <td>1</td>\n",
       "      <td>43</td>\n",
       "      <td>1</td>\n",
       "      <td>0</td>\n",
       "      <td>9</td>\n",
       "      <td>0</td>\n",
       "      <td>2</td>\n",
       "      <td>0</td>\n",
       "    </tr>\n",
       "    <tr>\n",
       "      <th>9481301</th>\n",
       "      <td>4999178</td>\n",
       "      <td>1</td>\n",
       "      <td>35</td>\n",
       "      <td>1</td>\n",
       "      <td>0</td>\n",
       "      <td>49</td>\n",
       "      <td>0</td>\n",
       "      <td>9</td>\n",
       "      <td>0</td>\n",
       "    </tr>\n",
       "    <tr>\n",
       "      <th>4371507</th>\n",
       "      <td>5482413</td>\n",
       "      <td>1</td>\n",
       "      <td>19</td>\n",
       "      <td>1</td>\n",
       "      <td>7291</td>\n",
       "      <td>27</td>\n",
       "      <td>0</td>\n",
       "      <td>10</td>\n",
       "      <td>0</td>\n",
       "    </tr>\n",
       "    <tr>\n",
       "      <th>7065297</th>\n",
       "      <td>4634155</td>\n",
       "      <td>1</td>\n",
       "      <td>10</td>\n",
       "      <td>1</td>\n",
       "      <td>4813</td>\n",
       "      <td>42</td>\n",
       "      <td>4</td>\n",
       "      <td>7</td>\n",
       "      <td>0</td>\n",
       "    </tr>\n",
       "    <tr>\n",
       "      <th>8995479</th>\n",
       "      <td>195967</td>\n",
       "      <td>2</td>\n",
       "      <td>43</td>\n",
       "      <td>1</td>\n",
       "      <td>0</td>\n",
       "      <td>13</td>\n",
       "      <td>3</td>\n",
       "      <td>2</td>\n",
       "      <td>0</td>\n",
       "    </tr>\n",
       "    <tr>\n",
       "      <th>9809950</th>\n",
       "      <td>2771504</td>\n",
       "      <td>2</td>\n",
       "      <td>39</td>\n",
       "      <td>1</td>\n",
       "      <td>4000</td>\n",
       "      <td>10</td>\n",
       "      <td>0</td>\n",
       "      <td>3</td>\n",
       "      <td>0</td>\n",
       "    </tr>\n",
       "    <tr>\n",
       "      <th>542480</th>\n",
       "      <td>4835832</td>\n",
       "      <td>1</td>\n",
       "      <td>18</td>\n",
       "      <td>1</td>\n",
       "      <td>2671</td>\n",
       "      <td>1</td>\n",
       "      <td>0</td>\n",
       "      <td>11</td>\n",
       "      <td>0</td>\n",
       "    </tr>\n",
       "    <tr>\n",
       "      <th>2463437</th>\n",
       "      <td>9040000</td>\n",
       "      <td>1</td>\n",
       "      <td>36</td>\n",
       "      <td>1</td>\n",
       "      <td>10000</td>\n",
       "      <td>100</td>\n",
       "      <td>0</td>\n",
       "      <td>9</td>\n",
       "      <td>1</td>\n",
       "    </tr>\n",
       "    <tr>\n",
       "      <th>5077028</th>\n",
       "      <td>5085722</td>\n",
       "      <td>2</td>\n",
       "      <td>10</td>\n",
       "      <td>1</td>\n",
       "      <td>0</td>\n",
       "      <td>16</td>\n",
       "      <td>0</td>\n",
       "      <td>20</td>\n",
       "      <td>0</td>\n",
       "    </tr>\n",
       "    <tr>\n",
       "      <th>5433308</th>\n",
       "      <td>4233685</td>\n",
       "      <td>2</td>\n",
       "      <td>36</td>\n",
       "      <td>1</td>\n",
       "      <td>7000</td>\n",
       "      <td>5</td>\n",
       "      <td>11</td>\n",
       "      <td>6</td>\n",
       "      <td>0</td>\n",
       "    </tr>\n",
       "    <tr>\n",
       "      <th>7510060</th>\n",
       "      <td>9600754</td>\n",
       "      <td>1</td>\n",
       "      <td>46</td>\n",
       "      <td>1</td>\n",
       "      <td>3996</td>\n",
       "      <td>5</td>\n",
       "      <td>0</td>\n",
       "      <td>4</td>\n",
       "      <td>0</td>\n",
       "    </tr>\n",
       "    <tr>\n",
       "      <th>1428184</th>\n",
       "      <td>6797321</td>\n",
       "      <td>2</td>\n",
       "      <td>35</td>\n",
       "      <td>1</td>\n",
       "      <td>0</td>\n",
       "      <td>52</td>\n",
       "      <td>0</td>\n",
       "      <td>3</td>\n",
       "      <td>0</td>\n",
       "    </tr>\n",
       "    <tr>\n",
       "      <th>4349976</th>\n",
       "      <td>9158739</td>\n",
       "      <td>1</td>\n",
       "      <td>25</td>\n",
       "      <td>1</td>\n",
       "      <td>0</td>\n",
       "      <td>9</td>\n",
       "      <td>0</td>\n",
       "      <td>4</td>\n",
       "      <td>0</td>\n",
       "    </tr>\n",
       "    <tr>\n",
       "      <th>7175062</th>\n",
       "      <td>9290920</td>\n",
       "      <td>1</td>\n",
       "      <td>35</td>\n",
       "      <td>1</td>\n",
       "      <td>2494</td>\n",
       "      <td>8</td>\n",
       "      <td>0</td>\n",
       "      <td>7</td>\n",
       "      <td>0</td>\n",
       "    </tr>\n",
       "    <tr>\n",
       "      <th>876922</th>\n",
       "      <td>10544</td>\n",
       "      <td>2</td>\n",
       "      <td>32</td>\n",
       "      <td>1</td>\n",
       "      <td>0</td>\n",
       "      <td>11</td>\n",
       "      <td>0</td>\n",
       "      <td>4</td>\n",
       "      <td>0</td>\n",
       "    </tr>\n",
       "    <tr>\n",
       "      <th>7286685</th>\n",
       "      <td>3114594</td>\n",
       "      <td>1</td>\n",
       "      <td>48</td>\n",
       "      <td>1</td>\n",
       "      <td>3112</td>\n",
       "      <td>24</td>\n",
       "      <td>0</td>\n",
       "      <td>3</td>\n",
       "      <td>0</td>\n",
       "    </tr>\n",
       "    <tr>\n",
       "      <th>90666</th>\n",
       "      <td>9349440</td>\n",
       "      <td>1</td>\n",
       "      <td>5</td>\n",
       "      <td>1</td>\n",
       "      <td>0</td>\n",
       "      <td>9</td>\n",
       "      <td>19</td>\n",
       "      <td>6</td>\n",
       "      <td>0</td>\n",
       "    </tr>\n",
       "    <tr>\n",
       "      <th>9630313</th>\n",
       "      <td>9250482</td>\n",
       "      <td>2</td>\n",
       "      <td>5</td>\n",
       "      <td>1</td>\n",
       "      <td>3000</td>\n",
       "      <td>47</td>\n",
       "      <td>0</td>\n",
       "      <td>2</td>\n",
       "      <td>0</td>\n",
       "    </tr>\n",
       "    <tr>\n",
       "      <th>6983213</th>\n",
       "      <td>2920414</td>\n",
       "      <td>2</td>\n",
       "      <td>8</td>\n",
       "      <td>1</td>\n",
       "      <td>2223</td>\n",
       "      <td>11</td>\n",
       "      <td>0</td>\n",
       "      <td>4</td>\n",
       "      <td>0</td>\n",
       "    </tr>\n",
       "    <tr>\n",
       "      <th>4313773</th>\n",
       "      <td>6771274</td>\n",
       "      <td>1</td>\n",
       "      <td>43</td>\n",
       "      <td>1</td>\n",
       "      <td>0</td>\n",
       "      <td>15</td>\n",
       "      <td>7</td>\n",
       "      <td>8</td>\n",
       "      <td>0</td>\n",
       "    </tr>\n",
       "    <tr>\n",
       "      <th>3872276</th>\n",
       "      <td>4992308</td>\n",
       "      <td>2</td>\n",
       "      <td>25</td>\n",
       "      <td>1</td>\n",
       "      <td>1955</td>\n",
       "      <td>19</td>\n",
       "      <td>13</td>\n",
       "      <td>7</td>\n",
       "      <td>0</td>\n",
       "    </tr>\n",
       "    <tr>\n",
       "      <th>1308898</th>\n",
       "      <td>2791443</td>\n",
       "      <td>1</td>\n",
       "      <td>6</td>\n",
       "      <td>1</td>\n",
       "      <td>4000</td>\n",
       "      <td>33</td>\n",
       "      <td>0</td>\n",
       "      <td>3</td>\n",
       "      <td>0</td>\n",
       "    </tr>\n",
       "    <tr>\n",
       "      <th>3404908</th>\n",
       "      <td>3419886</td>\n",
       "      <td>2</td>\n",
       "      <td>23</td>\n",
       "      <td>1</td>\n",
       "      <td>6000</td>\n",
       "      <td>53</td>\n",
       "      <td>0</td>\n",
       "      <td>5</td>\n",
       "      <td>0</td>\n",
       "    </tr>\n",
       "    <tr>\n",
       "      <th>4753344</th>\n",
       "      <td>3809359</td>\n",
       "      <td>2</td>\n",
       "      <td>44</td>\n",
       "      <td>1</td>\n",
       "      <td>9000</td>\n",
       "      <td>14</td>\n",
       "      <td>0</td>\n",
       "      <td>8</td>\n",
       "      <td>0</td>\n",
       "    </tr>\n",
       "    <tr>\n",
       "      <th>1675065</th>\n",
       "      <td>159345</td>\n",
       "      <td>1</td>\n",
       "      <td>36</td>\n",
       "      <td>1</td>\n",
       "      <td>1423</td>\n",
       "      <td>23</td>\n",
       "      <td>0</td>\n",
       "      <td>8</td>\n",
       "      <td>0</td>\n",
       "    </tr>\n",
       "    <tr>\n",
       "      <th>3481243</th>\n",
       "      <td>3237098</td>\n",
       "      <td>2</td>\n",
       "      <td>44</td>\n",
       "      <td>1</td>\n",
       "      <td>9236</td>\n",
       "      <td>21</td>\n",
       "      <td>0</td>\n",
       "      <td>29</td>\n",
       "      <td>1</td>\n",
       "    </tr>\n",
       "    <tr>\n",
       "      <th>2367305</th>\n",
       "      <td>4307109</td>\n",
       "      <td>1</td>\n",
       "      <td>41</td>\n",
       "      <td>1</td>\n",
       "      <td>5000</td>\n",
       "      <td>32</td>\n",
       "      <td>2</td>\n",
       "      <td>4</td>\n",
       "      <td>0</td>\n",
       "    </tr>\n",
       "    <tr>\n",
       "      <th>8200393</th>\n",
       "      <td>3395758</td>\n",
       "      <td>1</td>\n",
       "      <td>35</td>\n",
       "      <td>1</td>\n",
       "      <td>135</td>\n",
       "      <td>17</td>\n",
       "      <td>5</td>\n",
       "      <td>18</td>\n",
       "      <td>0</td>\n",
       "    </tr>\n",
       "    <tr>\n",
       "      <th>4023670</th>\n",
       "      <td>9260877</td>\n",
       "      <td>1</td>\n",
       "      <td>21</td>\n",
       "      <td>1</td>\n",
       "      <td>4000</td>\n",
       "      <td>24</td>\n",
       "      <td>0</td>\n",
       "      <td>3</td>\n",
       "      <td>0</td>\n",
       "    </tr>\n",
       "    <tr>\n",
       "      <th>3257680</th>\n",
       "      <td>988665</td>\n",
       "      <td>1</td>\n",
       "      <td>2</td>\n",
       "      <td>1</td>\n",
       "      <td>7000</td>\n",
       "      <td>62</td>\n",
       "      <td>3</td>\n",
       "      <td>6</td>\n",
       "      <td>0</td>\n",
       "    </tr>\n",
       "    <tr>\n",
       "      <th>2496654</th>\n",
       "      <td>755482</td>\n",
       "      <td>1</td>\n",
       "      <td>17</td>\n",
       "      <td>1</td>\n",
       "      <td>6000</td>\n",
       "      <td>100</td>\n",
       "      <td>0</td>\n",
       "      <td>5</td>\n",
       "      <td>0</td>\n",
       "    </tr>\n",
       "  </tbody>\n",
       "</table>\n",
       "</div>"
      ],
      "text/plain": [
       "          custID  gender  state  ...  numIntlTrans  creditLine  fraudRisk\n",
       "5341708  8946443       2     41  ...             2           8          0\n",
       "7214692  9231015       2     28  ...             0           2          0\n",
       "6409449   772280       2     46  ...             2           5          0\n",
       "5249316  4510513       1      4  ...             3           5          0\n",
       "9724281  6407367       1     48  ...             1           4          0\n",
       "2443753  8984923       1     49  ...             6           1          0\n",
       "750128   9339261       1     46  ...             2           3          0\n",
       "4518410  2785124       1     45  ...             0          10          0\n",
       "5600738  8038238       2     15  ...             0           2          0\n",
       "5770247  1584138       2     35  ...             0           3          0\n",
       "5725593  7751256       1     20  ...             6           2          0\n",
       "3270938  6566682       1     36  ...            11          37          0\n",
       "2166079  7110276       2     34  ...            22           3          0\n",
       "1262777  3278780       1     35  ...             0          36          0\n",
       "8350249  6612023       1     13  ...             0           7          0\n",
       "7046669  7439892       1     25  ...             9           4          0\n",
       "5813173  6957714       2     44  ...             0          15          0\n",
       "3429561  7081513       1     19  ...             2           2          0\n",
       "9380541  6329045       1     21  ...            10           5          0\n",
       "8250695  4279380       1     43  ...             0           2          0\n",
       "9481301  4999178       1     35  ...             0           9          0\n",
       "4371507  5482413       1     19  ...             0          10          0\n",
       "7065297  4634155       1     10  ...             4           7          0\n",
       "8995479   195967       2     43  ...             3           2          0\n",
       "9809950  2771504       2     39  ...             0           3          0\n",
       "542480   4835832       1     18  ...             0          11          0\n",
       "2463437  9040000       1     36  ...             0           9          1\n",
       "5077028  5085722       2     10  ...             0          20          0\n",
       "5433308  4233685       2     36  ...            11           6          0\n",
       "7510060  9600754       1     46  ...             0           4          0\n",
       "1428184  6797321       2     35  ...             0           3          0\n",
       "4349976  9158739       1     25  ...             0           4          0\n",
       "7175062  9290920       1     35  ...             0           7          0\n",
       "876922     10544       2     32  ...             0           4          0\n",
       "7286685  3114594       1     48  ...             0           3          0\n",
       "90666    9349440       1      5  ...            19           6          0\n",
       "9630313  9250482       2      5  ...             0           2          0\n",
       "6983213  2920414       2      8  ...             0           4          0\n",
       "4313773  6771274       1     43  ...             7           8          0\n",
       "3872276  4992308       2     25  ...            13           7          0\n",
       "1308898  2791443       1      6  ...             0           3          0\n",
       "3404908  3419886       2     23  ...             0           5          0\n",
       "4753344  3809359       2     44  ...             0           8          0\n",
       "1675065   159345       1     36  ...             0           8          0\n",
       "3481243  3237098       2     44  ...             0          29          1\n",
       "2367305  4307109       1     41  ...             2           4          0\n",
       "8200393  3395758       1     35  ...             5          18          0\n",
       "4023670  9260877       1     21  ...             0           3          0\n",
       "3257680   988665       1      2  ...             3           6          0\n",
       "2496654   755482       1     17  ...             0           5          0\n",
       "\n",
       "[50 rows x 9 columns]"
      ]
     },
     "execution_count": 6,
     "metadata": {},
     "output_type": "execute_result"
    }
   ],
   "source": [
    "df_sample=pd.concat([fraud,not_fraud])\n",
    "np.random.shuffle(df_sample.values)\n",
    "df_sample.head(50)"
   ]
  },
  {
   "cell_type": "code",
   "execution_count": null,
   "metadata": {
    "colab": {
     "base_uri": "https://localhost:8080/",
     "height": 423
    },
    "executionInfo": {
     "elapsed": 312,
     "status": "ok",
     "timestamp": 1636021428628,
     "user": {
      "displayName": "Xing Ying",
      "photoUrl": "https://lh3.googleusercontent.com/a/default-user=s64",
      "userId": "06888404409835225770"
     },
     "user_tz": -480
    },
    "id": "ZnLwkLTLEEa4",
    "outputId": "5c3466c2-3f92-4672-b210-9e857e7e5737"
   },
   "outputs": [
    {
     "data": {
      "text/html": [
       "<div>\n",
       "<style scoped>\n",
       "    .dataframe tbody tr th:only-of-type {\n",
       "        vertical-align: middle;\n",
       "    }\n",
       "\n",
       "    .dataframe tbody tr th {\n",
       "        vertical-align: top;\n",
       "    }\n",
       "\n",
       "    .dataframe thead th {\n",
       "        text-align: right;\n",
       "    }\n",
       "</style>\n",
       "<table border=\"1\" class=\"dataframe\">\n",
       "  <thead>\n",
       "    <tr style=\"text-align: right;\">\n",
       "      <th></th>\n",
       "      <th>index</th>\n",
       "      <th>custID</th>\n",
       "      <th>gender</th>\n",
       "      <th>state</th>\n",
       "      <th>cardholder</th>\n",
       "      <th>balance</th>\n",
       "      <th>numTrans</th>\n",
       "      <th>numIntlTrans</th>\n",
       "      <th>creditLine</th>\n",
       "      <th>fraudRisk</th>\n",
       "    </tr>\n",
       "  </thead>\n",
       "  <tbody>\n",
       "    <tr>\n",
       "      <th>0</th>\n",
       "      <td>5341708</td>\n",
       "      <td>8946443</td>\n",
       "      <td>2</td>\n",
       "      <td>41</td>\n",
       "      <td>1</td>\n",
       "      <td>3186</td>\n",
       "      <td>34</td>\n",
       "      <td>2</td>\n",
       "      <td>8</td>\n",
       "      <td>0</td>\n",
       "    </tr>\n",
       "    <tr>\n",
       "      <th>1</th>\n",
       "      <td>7214692</td>\n",
       "      <td>9231015</td>\n",
       "      <td>2</td>\n",
       "      <td>28</td>\n",
       "      <td>1</td>\n",
       "      <td>3000</td>\n",
       "      <td>16</td>\n",
       "      <td>0</td>\n",
       "      <td>2</td>\n",
       "      <td>0</td>\n",
       "    </tr>\n",
       "    <tr>\n",
       "      <th>2</th>\n",
       "      <td>6409449</td>\n",
       "      <td>772280</td>\n",
       "      <td>2</td>\n",
       "      <td>46</td>\n",
       "      <td>1</td>\n",
       "      <td>6000</td>\n",
       "      <td>36</td>\n",
       "      <td>2</td>\n",
       "      <td>5</td>\n",
       "      <td>0</td>\n",
       "    </tr>\n",
       "    <tr>\n",
       "      <th>3</th>\n",
       "      <td>5249316</td>\n",
       "      <td>4510513</td>\n",
       "      <td>1</td>\n",
       "      <td>4</td>\n",
       "      <td>1</td>\n",
       "      <td>6000</td>\n",
       "      <td>5</td>\n",
       "      <td>3</td>\n",
       "      <td>5</td>\n",
       "      <td>0</td>\n",
       "    </tr>\n",
       "    <tr>\n",
       "      <th>4</th>\n",
       "      <td>9724281</td>\n",
       "      <td>6407367</td>\n",
       "      <td>1</td>\n",
       "      <td>48</td>\n",
       "      <td>1</td>\n",
       "      <td>5000</td>\n",
       "      <td>29</td>\n",
       "      <td>1</td>\n",
       "      <td>4</td>\n",
       "      <td>0</td>\n",
       "    </tr>\n",
       "    <tr>\n",
       "      <th>...</th>\n",
       "      <td>...</td>\n",
       "      <td>...</td>\n",
       "      <td>...</td>\n",
       "      <td>...</td>\n",
       "      <td>...</td>\n",
       "      <td>...</td>\n",
       "      <td>...</td>\n",
       "      <td>...</td>\n",
       "      <td>...</td>\n",
       "      <td>...</td>\n",
       "    </tr>\n",
       "    <tr>\n",
       "      <th>199995</th>\n",
       "      <td>7249582</td>\n",
       "      <td>7966749</td>\n",
       "      <td>1</td>\n",
       "      <td>44</td>\n",
       "      <td>1</td>\n",
       "      <td>0</td>\n",
       "      <td>13</td>\n",
       "      <td>0</td>\n",
       "      <td>2</td>\n",
       "      <td>0</td>\n",
       "    </tr>\n",
       "    <tr>\n",
       "      <th>199996</th>\n",
       "      <td>617135</td>\n",
       "      <td>4123504</td>\n",
       "      <td>2</td>\n",
       "      <td>5</td>\n",
       "      <td>1</td>\n",
       "      <td>8907</td>\n",
       "      <td>66</td>\n",
       "      <td>0</td>\n",
       "      <td>22</td>\n",
       "      <td>1</td>\n",
       "    </tr>\n",
       "    <tr>\n",
       "      <th>199997</th>\n",
       "      <td>9342156</td>\n",
       "      <td>1164599</td>\n",
       "      <td>2</td>\n",
       "      <td>14</td>\n",
       "      <td>1</td>\n",
       "      <td>0</td>\n",
       "      <td>21</td>\n",
       "      <td>0</td>\n",
       "      <td>4</td>\n",
       "      <td>0</td>\n",
       "    </tr>\n",
       "    <tr>\n",
       "      <th>199998</th>\n",
       "      <td>1278728</td>\n",
       "      <td>6165123</td>\n",
       "      <td>1</td>\n",
       "      <td>29</td>\n",
       "      <td>1</td>\n",
       "      <td>0</td>\n",
       "      <td>8</td>\n",
       "      <td>0</td>\n",
       "      <td>10</td>\n",
       "      <td>0</td>\n",
       "    </tr>\n",
       "    <tr>\n",
       "      <th>199999</th>\n",
       "      <td>9753478</td>\n",
       "      <td>6685647</td>\n",
       "      <td>1</td>\n",
       "      <td>5</td>\n",
       "      <td>1</td>\n",
       "      <td>10000</td>\n",
       "      <td>6</td>\n",
       "      <td>0</td>\n",
       "      <td>9</td>\n",
       "      <td>0</td>\n",
       "    </tr>\n",
       "  </tbody>\n",
       "</table>\n",
       "<p>200000 rows × 10 columns</p>\n",
       "</div>"
      ],
      "text/plain": [
       "          index   custID  gender  ...  numIntlTrans  creditLine  fraudRisk\n",
       "0       5341708  8946443       2  ...             2           8          0\n",
       "1       7214692  9231015       2  ...             0           2          0\n",
       "2       6409449   772280       2  ...             2           5          0\n",
       "3       5249316  4510513       1  ...             3           5          0\n",
       "4       9724281  6407367       1  ...             1           4          0\n",
       "...         ...      ...     ...  ...           ...         ...        ...\n",
       "199995  7249582  7966749       1  ...             0           2          0\n",
       "199996   617135  4123504       2  ...             0          22          1\n",
       "199997  9342156  1164599       2  ...             0           4          0\n",
       "199998  1278728  6165123       1  ...             0          10          0\n",
       "199999  9753478  6685647       1  ...             0           9          0\n",
       "\n",
       "[200000 rows x 10 columns]"
      ]
     },
     "execution_count": 7,
     "metadata": {},
     "output_type": "execute_result"
    }
   ],
   "source": [
    "df_sample=df_sample.reset_index()\n",
    "df_sample"
   ]
  },
  {
   "cell_type": "code",
   "execution_count": null,
   "metadata": {
    "id": "BCBSb-yCEEa6"
   },
   "outputs": [],
   "source": [
    "\n",
    "X=df_sample[[\"balance\",\"numTrans\",\"numIntlTrans\",\"creditLine\",\"gender\", \"state\" , \"cardholder\"]]\n",
    "y=df_sample.fraudRisk \n",
    "X_train, X_test, y_train, y_test = train_test_split(X, y, test_size=0.3, random_state=1)"
   ]
  },
  {
   "cell_type": "markdown",
   "metadata": {
    "id": "AaWnN2A_pbsG"
   },
   "source": [
    "##Multicollinearity Test"
   ]
  },
  {
   "cell_type": "code",
   "execution_count": null,
   "metadata": {
    "colab": {
     "base_uri": "https://localhost:8080/"
    },
    "executionInfo": {
     "elapsed": 6,
     "status": "ok",
     "timestamp": 1635419221742,
     "user": {
      "displayName": "Xing Ying",
      "photoUrl": "https://lh3.googleusercontent.com/a/default-user=s64",
      "userId": "06888404409835225770"
     },
     "user_tz": -480
    },
    "id": "NEtftmpmniKf",
    "outputId": "b23e8d9e-f6fa-4900-b5c1-3bce429946b6"
   },
   "outputs": [
    {
     "name": "stderr",
     "output_type": "stream",
     "text": [
      "/usr/local/lib/python3.7/dist-packages/statsmodels/tools/_testing.py:19: FutureWarning: pandas.util.testing is deprecated. Use the functions in the public API at pandas.testing instead.\n",
      "  import pandas.util.testing as tm\n"
     ]
    }
   ],
   "source": [
    "from statsmodels.stats.outliers_influence import variance_inflation_factor\n",
    "\n",
    "def calc_vif(X):\n",
    "\n",
    "    # Calculating VIF\n",
    "    vif = pd.DataFrame()\n",
    "    vif[\"variables\"] = X.columns\n",
    "    vif[\"VIF\"] = [variance_inflation_factor(X.values, i) for i in range(X.shape[1])]\n",
    "\n",
    "    return(vif)"
   ]
  },
  {
   "cell_type": "code",
   "execution_count": null,
   "metadata": {
    "colab": {
     "base_uri": "https://localhost:8080/",
     "height": 269
    },
    "executionInfo": {
     "elapsed": 1327,
     "status": "ok",
     "timestamp": 1635151837203,
     "user": {
      "displayName": "Xing Ying",
      "photoUrl": "https://lh3.googleusercontent.com/a/default-user=s64",
      "userId": "06888404409835225770"
     },
     "user_tz": -480
    },
    "id": "dooWNVjJniMV",
    "outputId": "bcf000ef-7422-4227-d229-7583ac2d5c00"
   },
   "outputs": [
    {
     "data": {
      "text/html": [
       "<div>\n",
       "<style scoped>\n",
       "    .dataframe tbody tr th:only-of-type {\n",
       "        vertical-align: middle;\n",
       "    }\n",
       "\n",
       "    .dataframe tbody tr th {\n",
       "        vertical-align: top;\n",
       "    }\n",
       "\n",
       "    .dataframe thead th {\n",
       "        text-align: right;\n",
       "    }\n",
       "</style>\n",
       "<table border=\"1\" class=\"dataframe\">\n",
       "  <thead>\n",
       "    <tr style=\"text-align: right;\">\n",
       "      <th></th>\n",
       "      <th>variables</th>\n",
       "      <th>VIF</th>\n",
       "    </tr>\n",
       "  </thead>\n",
       "  <tbody>\n",
       "    <tr>\n",
       "      <th>0</th>\n",
       "      <td>gender</td>\n",
       "      <td>7.643228</td>\n",
       "    </tr>\n",
       "    <tr>\n",
       "      <th>1</th>\n",
       "      <td>state</td>\n",
       "      <td>3.519527</td>\n",
       "    </tr>\n",
       "    <tr>\n",
       "      <th>2</th>\n",
       "      <td>cardholder</td>\n",
       "      <td>10.759277</td>\n",
       "    </tr>\n",
       "    <tr>\n",
       "      <th>3</th>\n",
       "      <td>balance</td>\n",
       "      <td>2.182226</td>\n",
       "    </tr>\n",
       "    <tr>\n",
       "      <th>4</th>\n",
       "      <td>numTrans</td>\n",
       "      <td>2.130942</td>\n",
       "    </tr>\n",
       "    <tr>\n",
       "      <th>5</th>\n",
       "      <td>numIntlTrans</td>\n",
       "      <td>1.218857</td>\n",
       "    </tr>\n",
       "    <tr>\n",
       "      <th>6</th>\n",
       "      <td>creditLine</td>\n",
       "      <td>2.026278</td>\n",
       "    </tr>\n",
       "  </tbody>\n",
       "</table>\n",
       "</div>"
      ],
      "text/plain": [
       "      variables        VIF\n",
       "0        gender   7.643228\n",
       "1         state   3.519527\n",
       "2    cardholder  10.759277\n",
       "3       balance   2.182226\n",
       "4      numTrans   2.130942\n",
       "5  numIntlTrans   1.218857\n",
       "6    creditLine   2.026278"
      ]
     },
     "execution_count": 13,
     "metadata": {},
     "output_type": "execute_result"
    }
   ],
   "source": [
    "X = df_sample.iloc[:,2:-1]\n",
    "calc_vif(X)\n"
   ]
  },
  {
   "cell_type": "code",
   "execution_count": null,
   "metadata": {
    "id": "W1Ys8wbK_MXM"
   },
   "outputs": [],
   "source": []
  },
  {
   "cell_type": "markdown",
   "metadata": {
    "id": "zB2J1MWp_NAO"
   },
   "source": [
    "# SVM"
   ]
  },
  {
   "cell_type": "code",
   "execution_count": null,
   "metadata": {
    "id": "hE4dcBVl_CQU"
   },
   "outputs": [],
   "source": [
    "\n",
    "param = {'C': [0.1, 1, 10],\n",
    "              'kernel': ['rbf']}\n",
    "\n",
    "metric = {\n",
    "    'precision_score': make_scorer(precision_score),\n",
    "    'recall_score': make_scorer(recall_score),\n",
    "    'accuracy_score': make_scorer(accuracy_score)\n",
    "}\n",
    " \n",
    "\n",
    "SVM = SVC()"
   ]
  },
  {
   "cell_type": "code",
   "execution_count": null,
   "metadata": {
    "id": "dQqpF6xx_Xs8"
   },
   "outputs": [],
   "source": [
    "def grid_search(eval_score):\n",
    "    \"\"\"\n",
    "    fits a GridSearchCV classifier using refit_score for optimization\n",
    "    prints classifier performance metrics\n",
    "    \"\"\"\n",
    "    skf = StratifiedKFold(n_splits=5)\n",
    "    grid_search = GridSearchCV(SVM, param, scoring=metric, refit=eval_score,\n",
    "                           cv=skf,return_train_score=True)\n",
    "    grid_search.fit(X_train, y_train)\n",
    "\n",
    "    # make the predictions\n",
    "    y_pred = grid_search.predict(X_test)\n",
    "\n",
    "    print('Best params for {}'.format(eval_score))\n",
    "    print(grid_search.best_params_)\n",
    "\n",
    "    # confusion matrix on the test data.\n",
    "    print('\\nConfusion matrix of Random Forest optimized for {} on the test data:'.format(eval_score))\n",
    "    print(pd.DataFrame(confusion_matrix(y_test, y_pred),\n",
    "                 columns=['pred_neg', 'pred_pos'], index=['neg', 'pos']))\n",
    "    \n",
    "    return grid_search"
   ]
  },
  {
   "cell_type": "code",
   "execution_count": null,
   "metadata": {
    "colab": {
     "base_uri": "https://localhost:8080/"
    },
    "executionInfo": {
     "elapsed": 3020750,
     "status": "ok",
     "timestamp": 1635483251747,
     "user": {
      "displayName": "Xing Ying",
      "photoUrl": "https://lh3.googleusercontent.com/a/default-user=s64",
      "userId": "06888404409835225770"
     },
     "user_tz": -480
    },
    "id": "YfQAFLZc_bHm",
    "outputId": "2d5a92fb-8f06-4dba-9d7d-1ac54b82d406"
   },
   "outputs": [
    {
     "name": "stdout",
     "output_type": "stream",
     "text": [
      "Best params for recall_score\n",
      "{'C': 10, 'kernel': 'rbf'}\n",
      "\n",
      "Confusion matrix of Random Forest optimized for recall_score on the test data:\n",
      "     pred_neg  pred_pos\n",
      "neg     56151       283\n",
      "pos      2694       872\n"
     ]
    }
   ],
   "source": [
    "grid_search_clf = grid_search('recall_score')\n",
    "results = pd.DataFrame(grid_search_clf.cv_results_)\n",
    "results = results.sort_values(by='mean_test_recall_score', ascending=False)\n"
   ]
  },
  {
   "cell_type": "code",
   "execution_count": null,
   "metadata": {
    "colab": {
     "base_uri": "https://localhost:8080/",
     "height": 143
    },
    "executionInfo": {
     "elapsed": 13,
     "status": "ok",
     "timestamp": 1635483251749,
     "user": {
      "displayName": "Xing Ying",
      "photoUrl": "https://lh3.googleusercontent.com/a/default-user=s64",
      "userId": "06888404409835225770"
     },
     "user_tz": -480
    },
    "id": "61aq3uTswmh1",
    "outputId": "4410860b-7738-4c55-98ce-996d989f7d0d"
   },
   "outputs": [
    {
     "data": {
      "text/html": [
       "<div>\n",
       "<style scoped>\n",
       "    .dataframe tbody tr th:only-of-type {\n",
       "        vertical-align: middle;\n",
       "    }\n",
       "\n",
       "    .dataframe tbody tr th {\n",
       "        vertical-align: top;\n",
       "    }\n",
       "\n",
       "    .dataframe thead th {\n",
       "        text-align: right;\n",
       "    }\n",
       "</style>\n",
       "<table border=\"1\" class=\"dataframe\">\n",
       "  <thead>\n",
       "    <tr style=\"text-align: right;\">\n",
       "      <th></th>\n",
       "      <th>mean_test_precision_score</th>\n",
       "      <th>mean_test_recall_score</th>\n",
       "      <th>mean_test_accuracy_score</th>\n",
       "      <th>param_C</th>\n",
       "      <th>param_kernel</th>\n",
       "    </tr>\n",
       "  </thead>\n",
       "  <tbody>\n",
       "    <tr>\n",
       "      <th>2</th>\n",
       "      <td>0.761</td>\n",
       "      <td>0.253</td>\n",
       "      <td>0.951</td>\n",
       "      <td>10</td>\n",
       "      <td>rbf</td>\n",
       "    </tr>\n",
       "    <tr>\n",
       "      <th>1</th>\n",
       "      <td>0.743</td>\n",
       "      <td>0.210</td>\n",
       "      <td>0.949</td>\n",
       "      <td>1</td>\n",
       "      <td>rbf</td>\n",
       "    </tr>\n",
       "    <tr>\n",
       "      <th>0</th>\n",
       "      <td>0.741</td>\n",
       "      <td>0.200</td>\n",
       "      <td>0.948</td>\n",
       "      <td>0.1</td>\n",
       "      <td>rbf</td>\n",
       "    </tr>\n",
       "  </tbody>\n",
       "</table>\n",
       "</div>"
      ],
      "text/plain": [
       "   mean_test_precision_score  mean_test_recall_score  ...  param_C param_kernel\n",
       "2                      0.761                   0.253  ...       10          rbf\n",
       "1                      0.743                   0.210  ...        1          rbf\n",
       "0                      0.741                   0.200  ...      0.1          rbf\n",
       "\n",
       "[3 rows x 5 columns]"
      ]
     },
     "execution_count": 15,
     "metadata": {},
     "output_type": "execute_result"
    }
   ],
   "source": [
    "results[['mean_test_precision_score', 'mean_test_recall_score', 'mean_test_accuracy_score', 'param_C','param_kernel']].round(3).head(6)\n"
   ]
  },
  {
   "cell_type": "code",
   "execution_count": null,
   "metadata": {
    "colab": {
     "base_uri": "https://localhost:8080/"
    },
    "executionInfo": {
     "elapsed": 1639747,
     "status": "ok",
     "timestamp": 1635484891486,
     "user": {
      "displayName": "Xing Ying",
      "photoUrl": "https://lh3.googleusercontent.com/a/default-user=s64",
      "userId": "06888404409835225770"
     },
     "user_tz": -480
    },
    "id": "JyyC-Tzw1xoh",
    "outputId": "a041c8c2-5938-41be-e269-f69115c28e67"
   },
   "outputs": [
    {
     "data": {
      "text/plain": [
       "SVC(C=10, break_ties=False, cache_size=200, class_weight=None, coef0=0.0,\n",
       "    decision_function_shape='ovr', degree=3, gamma='scale', kernel='rbf',\n",
       "    max_iter=-1, probability=True, random_state=None, shrinking=True, tol=0.001,\n",
       "    verbose=False)"
      ]
     },
     "execution_count": 16,
     "metadata": {},
     "output_type": "execute_result"
    }
   ],
   "source": [
    "from sklearn.svm import SVC\n",
    "svclassifier = SVC(C=10,probability=True)\n",
    "svclassifier.fit(X_train, y_train)\n",
    "\n"
   ]
  },
  {
   "cell_type": "code",
   "execution_count": null,
   "metadata": {
    "colab": {
     "base_uri": "https://localhost:8080/"
    },
    "executionInfo": {
     "elapsed": 27531,
     "status": "ok",
     "timestamp": 1635485217739,
     "user": {
      "displayName": "Xing Ying",
      "photoUrl": "https://lh3.googleusercontent.com/a/default-user=s64",
      "userId": "06888404409835225770"
     },
     "user_tz": -480
    },
    "id": "9WuVxKsFFbQO",
    "outputId": "353311b6-80fb-4739-830c-bd2467ef3021"
   },
   "outputs": [
    {
     "name": "stdout",
     "output_type": "stream",
     "text": [
      "Accuracy: 0.9503833333333334\n"
     ]
    }
   ],
   "source": [
    "\n",
    "y_pred = svclassifier.predict(X_test)\n",
    "print(\"Accuracy:\",metrics.accuracy_score(y_test, y_pred))"
   ]
  },
  {
   "cell_type": "code",
   "execution_count": null,
   "metadata": {
    "colab": {
     "base_uri": "https://localhost:8080/"
    },
    "executionInfo": {
     "elapsed": 315,
     "status": "ok",
     "timestamp": 1635485829327,
     "user": {
      "displayName": "Xing Ying",
      "photoUrl": "https://lh3.googleusercontent.com/a/default-user=s64",
      "userId": "06888404409835225770"
     },
     "user_tz": -480
    },
    "id": "bDviu2Ol14po",
    "outputId": "9ff5afb7-8f8b-4b8d-8408-f06dce18e525"
   },
   "outputs": [
    {
     "name": "stdout",
     "output_type": "stream",
     "text": [
      "[[56151   283]\n",
      " [ 2694   872]]\n"
     ]
    },
    {
     "data": {
      "text/plain": [
       "0.24453168816601234"
      ]
     },
     "execution_count": 20,
     "metadata": {},
     "output_type": "execute_result"
    }
   ],
   "source": [
    "\n",
    "print(confusion_matrix(y_test, y_pred))\n",
    "# print(classification_report(y_test, y_pred_sig))\n",
    "con=confusion_matrix(y_test, y_pred)\n",
    "sensitivity=con[1][1]/(con[1][1]+con[1][0])\n",
    "sensitivity"
   ]
  },
  {
   "cell_type": "code",
   "execution_count": null,
   "metadata": {
    "id": "QtZEOHTXFxFo"
   },
   "outputs": [],
   "source": [
    "y_prob=svclassifier.predict_proba(X_test)\n",
    "\n"
   ]
  },
  {
   "cell_type": "code",
   "execution_count": null,
   "metadata": {
    "colab": {
     "base_uri": "https://localhost:8080/"
    },
    "executionInfo": {
     "elapsed": 10,
     "status": "ok",
     "timestamp": 1635485824521,
     "user": {
      "displayName": "Xing Ying",
      "photoUrl": "https://lh3.googleusercontent.com/a/default-user=s64",
      "userId": "06888404409835225770"
     },
     "user_tz": -480
    },
    "id": "Ht0maYdYF0fL",
    "outputId": "8dfacc25-4ab1-4748-fbcf-eef6bec6ca68"
   },
   "outputs": [
    {
     "data": {
      "text/plain": [
       "0.5478229982649002"
      ]
     },
     "execution_count": 19,
     "metadata": {},
     "output_type": "execute_result"
    }
   ],
   "source": [
    "auprc = metrics.average_precision_score(y_test,y_prob[:,1])\n",
    "auprc\n"
   ]
  },
  {
   "cell_type": "code",
   "execution_count": null,
   "metadata": {
    "id": "ShQ_mOtUnrFZ"
   },
   "outputs": [],
   "source": []
  },
  {
   "cell_type": "markdown",
   "metadata": {
    "id": "dy_xDSiPUNZj"
   },
   "source": [
    "## Cost Sensitive SVM"
   ]
  },
  {
   "cell_type": "code",
   "execution_count": 4,
   "metadata": {
    "id": "tH3He7P-YqqQ"
   },
   "outputs": [],
   "source": [
    "\n",
    "def Cost_sensitive_SVM(weights,X,y):\n",
    "\n",
    "    accuracy=[]\n",
    "    sensitivity=[]\n",
    "    auprc=[]\n",
    "    for i in weights:\n",
    "        svclassifier = SVC(C=10,probability=True,class_weight=i)\n",
    "        svclassifier.fit(X_train, y_train)\n",
    "        y_pred = svclassifier.predict(X_test)\n",
    "        accuracy.append(metrics.accuracy_score(y_test, y_pred))\n",
    "        con=confusion_matrix(y_test, y_pred)\n",
    "        sensitivity.append(con[1][1]/(con[1][1]+con[1][0]))\n",
    "        y_prob=svclassifier.predict_proba(X_test)\n",
    "        auprc.append(metrics.average_precision_score(y_test,y_prob[:,1]))\n",
    "\n",
    "    result=pd.DataFrame({\"weights\":weights,\"accuracy\":accuracy,\"sensitivity\":sensitivity,\"auprc\":auprc})\n",
    "\n",
    "    return result\n"
   ]
  },
  {
   "cell_type": "code",
   "execution_count": null,
   "metadata": {
    "colab": {
     "base_uri": "https://localhost:8080/",
     "height": 143
    },
    "executionInfo": {
     "elapsed": 7868290,
     "status": "ok",
     "timestamp": 1635500345702,
     "user": {
      "displayName": "Xing Ying",
      "photoUrl": "https://lh3.googleusercontent.com/a/default-user=s64",
      "userId": "06888404409835225770"
     },
     "user_tz": -480
    },
    "id": "4bW3kwknnr0J",
    "outputId": "1e51be6c-b54f-4210-a07b-ef352d4bda84"
   },
   "outputs": [
    {
     "data": {
      "text/html": [
       "<div>\n",
       "<style scoped>\n",
       "    .dataframe tbody tr th:only-of-type {\n",
       "        vertical-align: middle;\n",
       "    }\n",
       "\n",
       "    .dataframe tbody tr th {\n",
       "        vertical-align: top;\n",
       "    }\n",
       "\n",
       "    .dataframe thead th {\n",
       "        text-align: right;\n",
       "    }\n",
       "</style>\n",
       "<table border=\"1\" class=\"dataframe\">\n",
       "  <thead>\n",
       "    <tr style=\"text-align: right;\">\n",
       "      <th></th>\n",
       "      <th>weights</th>\n",
       "      <th>accuracy</th>\n",
       "      <th>sensitivity</th>\n",
       "      <th>auprc</th>\n",
       "    </tr>\n",
       "  </thead>\n",
       "  <tbody>\n",
       "    <tr>\n",
       "      <th>0</th>\n",
       "      <td>{0: 1, 1: 3}</td>\n",
       "      <td>0.950033</td>\n",
       "      <td>0.597087</td>\n",
       "      <td>0.622657</td>\n",
       "    </tr>\n",
       "    <tr>\n",
       "      <th>1</th>\n",
       "      <td>{0: 1, 1: 5}</td>\n",
       "      <td>0.933800</td>\n",
       "      <td>0.721017</td>\n",
       "      <td>0.605109</td>\n",
       "    </tr>\n",
       "    <tr>\n",
       "      <th>2</th>\n",
       "      <td>{0: 1, 1: 10}</td>\n",
       "      <td>0.894183</td>\n",
       "      <td>0.855511</td>\n",
       "      <td>0.552845</td>\n",
       "    </tr>\n",
       "  </tbody>\n",
       "</table>\n",
       "</div>"
      ],
      "text/plain": [
       "         weights  accuracy  sensitivity     auprc\n",
       "0   {0: 1, 1: 3}  0.950033     0.597087  0.622657\n",
       "1   {0: 1, 1: 5}  0.933800     0.721017  0.605109\n",
       "2  {0: 1, 1: 10}  0.894183     0.855511  0.552845"
      ]
     },
     "execution_count": 10,
     "metadata": {},
     "output_type": "execute_result"
    }
   ],
   "source": [
    "weights =[{0:1, 1:3},{0:1, 1:5}, {0:1, 1:10}]\n",
    "result=Cost_sensitive_SVM(weights,X_train,y_train)\n",
    "result"
   ]
  },
  {
   "cell_type": "markdown",
   "metadata": {
    "id": "Fdc-JvhQUSNj"
   },
   "source": [
    "### Weigth chosen  {0: 1, 1: 3}"
   ]
  },
  {
   "cell_type": "markdown",
   "metadata": {
    "id": "40KPR8yCp615"
   },
   "source": [
    "# DecisionTree (C5.0)"
   ]
  },
  {
   "cell_type": "code",
   "execution_count": null,
   "metadata": {
    "id": "yvOZIfH3Fce9"
   },
   "outputs": [],
   "source": [
    "clf = DecisionTreeClassifier()\n",
    "\n",
    "param = {\n",
    "    'criterion':[\"gini\",\"entropy\"],\n",
    "    'max_depth': np.arange(2,18,2)\n",
    "    \n",
    "}\n",
    "\n",
    "metric = {\n",
    "    'precision_score': make_scorer(precision_score),\n",
    "    'recall_score': make_scorer(recall_score),\n",
    "    'accuracy_score': make_scorer(accuracy_score)\n",
    "}"
   ]
  },
  {
   "cell_type": "code",
   "execution_count": null,
   "metadata": {
    "id": "n-xpD5ZrGrHd"
   },
   "outputs": [],
   "source": [
    "def grid_search(eval_score):\n",
    "    \"\"\"\n",
    "    fits a GridSearchCV classifier using refit_score for optimization\n",
    "    prints classifier performance metrics\n",
    "    \"\"\"\n",
    "    skf = StratifiedKFold(n_splits=10)\n",
    "    grid_search = GridSearchCV(clf, param, scoring=metric, refit=eval_score,\n",
    "                           cv=skf,return_train_score=True)\n",
    "    grid_search.fit(X_train, y_train)\n",
    "\n",
    "    # make the predictions\n",
    "    y_pred = grid_search.predict(X_test)\n",
    "\n",
    "    print('Best params for {}'.format(eval_score))\n",
    "    print(grid_search.best_params_)\n",
    "\n",
    "    # confusion matrix on the test data.\n",
    "    print('\\nConfusion matrix of Random Forest optimized for {} on the test data:'.format(eval_score))\n",
    "    print(pd.DataFrame(confusion_matrix(y_test, y_pred),\n",
    "                 columns=['pred_neg', 'pred_pos'], index=['neg', 'pos']))\n",
    "    \n",
    "    return grid_search"
   ]
  },
  {
   "cell_type": "code",
   "execution_count": null,
   "metadata": {
    "colab": {
     "base_uri": "https://localhost:8080/"
    },
    "executionInfo": {
     "elapsed": 74568,
     "status": "ok",
     "timestamp": 1635322785192,
     "user": {
      "displayName": "Xing Ying",
      "photoUrl": "https://lh3.googleusercontent.com/a/default-user=s64",
      "userId": "06888404409835225770"
     },
     "user_tz": -480
    },
    "id": "irKnvpC-IN4Q",
    "outputId": "b55ec3b1-95ba-4435-bdcd-c8e8f40be19c"
   },
   "outputs": [
    {
     "name": "stdout",
     "output_type": "stream",
     "text": [
      "Best params for recall_score\n",
      "{'criterion': 'gini', 'max_depth': 16}\n",
      "\n",
      "Confusion matrix of Random Forest optimized for recall_score on the test data:\n",
      "     pred_neg  pred_pos\n",
      "neg     55116      1281\n",
      "pos      1965      1638\n"
     ]
    }
   ],
   "source": [
    "grid_search_clf = grid_search('recall_score')"
   ]
  },
  {
   "cell_type": "markdown",
   "metadata": {
    "id": "p0O5G_nAoOZB"
   },
   "source": [
    "###Eventhough best param is {'criterion': 'gini', 'max_depth': 16}, I will still use max-depth 8  as the overall performance for both precision and the recall is the higest. Inaddition, there is only a small difference in accuracy \n"
   ]
  },
  {
   "cell_type": "code",
   "execution_count": null,
   "metadata": {
    "colab": {
     "base_uri": "https://localhost:8080/",
     "height": 237
    },
    "executionInfo": {
     "elapsed": 12,
     "status": "ok",
     "timestamp": 1635322786819,
     "user": {
      "displayName": "Xing Ying",
      "photoUrl": "https://lh3.googleusercontent.com/a/default-user=s64",
      "userId": "06888404409835225770"
     },
     "user_tz": -480
    },
    "id": "I82bUXHFIr6l",
    "outputId": "a9cd9179-d1bd-4bd4-da70-7eeb7b7b8034"
   },
   "outputs": [
    {
     "data": {
      "text/html": [
       "<div>\n",
       "<style scoped>\n",
       "    .dataframe tbody tr th:only-of-type {\n",
       "        vertical-align: middle;\n",
       "    }\n",
       "\n",
       "    .dataframe tbody tr th {\n",
       "        vertical-align: top;\n",
       "    }\n",
       "\n",
       "    .dataframe thead th {\n",
       "        text-align: right;\n",
       "    }\n",
       "</style>\n",
       "<table border=\"1\" class=\"dataframe\">\n",
       "  <thead>\n",
       "    <tr style=\"text-align: right;\">\n",
       "      <th></th>\n",
       "      <th>mean_test_precision_score</th>\n",
       "      <th>mean_test_recall_score</th>\n",
       "      <th>mean_test_accuracy_score</th>\n",
       "      <th>param_max_depth</th>\n",
       "    </tr>\n",
       "  </thead>\n",
       "  <tbody>\n",
       "    <tr>\n",
       "      <th>7</th>\n",
       "      <td>0.553</td>\n",
       "      <td>0.445</td>\n",
       "      <td>0.946</td>\n",
       "      <td>16</td>\n",
       "    </tr>\n",
       "    <tr>\n",
       "      <th>15</th>\n",
       "      <td>0.547</td>\n",
       "      <td>0.441</td>\n",
       "      <td>0.945</td>\n",
       "      <td>16</td>\n",
       "    </tr>\n",
       "    <tr>\n",
       "      <th>6</th>\n",
       "      <td>0.597</td>\n",
       "      <td>0.432</td>\n",
       "      <td>0.949</td>\n",
       "      <td>14</td>\n",
       "    </tr>\n",
       "    <tr>\n",
       "      <th>14</th>\n",
       "      <td>0.598</td>\n",
       "      <td>0.431</td>\n",
       "      <td>0.949</td>\n",
       "      <td>14</td>\n",
       "    </tr>\n",
       "    <tr>\n",
       "      <th>5</th>\n",
       "      <td>0.648</td>\n",
       "      <td>0.428</td>\n",
       "      <td>0.952</td>\n",
       "      <td>12</td>\n",
       "    </tr>\n",
       "    <tr>\n",
       "      <th>3</th>\n",
       "      <td>0.725</td>\n",
       "      <td>0.420</td>\n",
       "      <td>0.956</td>\n",
       "      <td>8</td>\n",
       "    </tr>\n",
       "  </tbody>\n",
       "</table>\n",
       "</div>"
      ],
      "text/plain": [
       "    mean_test_precision_score  ...  param_max_depth\n",
       "7                       0.553  ...               16\n",
       "15                      0.547  ...               16\n",
       "6                       0.597  ...               14\n",
       "14                      0.598  ...               14\n",
       "5                       0.648  ...               12\n",
       "3                       0.725  ...                8\n",
       "\n",
       "[6 rows x 4 columns]"
      ]
     },
     "execution_count": 87,
     "metadata": {},
     "output_type": "execute_result"
    }
   ],
   "source": [
    "results = pd.DataFrame(grid_search_clf.cv_results_)\n",
    "results = results.sort_values(by='mean_test_recall_score', ascending=False)\n",
    "results[['mean_test_precision_score', 'mean_test_recall_score', 'mean_test_accuracy_score', 'param_max_depth']].round(3).head(6)"
   ]
  },
  {
   "cell_type": "code",
   "execution_count": null,
   "metadata": {
    "id": "gQhb-K5KvPze"
   },
   "outputs": [],
   "source": [
    "\n",
    "\n",
    "#selected param: max-depth=8"
   ]
  },
  {
   "cell_type": "code",
   "execution_count": null,
   "metadata": {
    "colab": {
     "base_uri": "https://localhost:8080/"
    },
    "executionInfo": {
     "elapsed": 609,
     "status": "ok",
     "timestamp": 1635323213785,
     "user": {
      "displayName": "Xing Ying",
      "photoUrl": "https://lh3.googleusercontent.com/a/default-user=s64",
      "userId": "06888404409835225770"
     },
     "user_tz": -480
    },
    "id": "PwCAh0ZCp5uk",
    "outputId": "a2f7b66b-65ab-491b-b4ea-1670bb12b4bd"
   },
   "outputs": [
    {
     "name": "stdout",
     "output_type": "stream",
     "text": [
      "Accuracy: 0.9561333333333333\n"
     ]
    }
   ],
   "source": [
    "decision_tree = DecisionTreeClassifier(random_state=0,max_depth=8)\n",
    "decision_tree = decision_tree.fit(X_train, y_train)\n",
    "\n",
    "y_pred = decision_tree.predict(X_test)\n",
    "print(\"Accuracy:\",metrics.accuracy_score(y_test, y_pred))"
   ]
  },
  {
   "cell_type": "code",
   "execution_count": null,
   "metadata": {
    "colab": {
     "base_uri": "https://localhost:8080/"
    },
    "executionInfo": {
     "elapsed": 12,
     "status": "ok",
     "timestamp": 1635323215358,
     "user": {
      "displayName": "Xing Ying",
      "photoUrl": "https://lh3.googleusercontent.com/a/default-user=s64",
      "userId": "06888404409835225770"
     },
     "user_tz": -480
    },
    "id": "C1EbkRMip5x-",
    "outputId": "7f3d2b36-b088-4199-eef7-93d286945adc"
   },
   "outputs": [
    {
     "name": "stdout",
     "output_type": "stream",
     "text": [
      "[[55812   585]\n",
      " [ 2047  1556]]\n"
     ]
    },
    {
     "data": {
      "text/plain": [
       "0.43186233694143766"
      ]
     },
     "execution_count": 89,
     "metadata": {},
     "output_type": "execute_result"
    }
   ],
   "source": [
    "\n",
    "print(confusion_matrix(y_test, y_pred))\n",
    "con=confusion_matrix(y_test, y_pred)\n",
    "sensitivity=con[1][1]/(con[1][1]+con[1][0])\n",
    "sensitivity"
   ]
  },
  {
   "cell_type": "code",
   "execution_count": null,
   "metadata": {
    "colab": {
     "base_uri": "https://localhost:8080/"
    },
    "executionInfo": {
     "elapsed": 14,
     "status": "ok",
     "timestamp": 1635323219585,
     "user": {
      "displayName": "Xing Ying",
      "photoUrl": "https://lh3.googleusercontent.com/a/default-user=s64",
      "userId": "06888404409835225770"
     },
     "user_tz": -480
    },
    "id": "_OFxzpdIu1aS",
    "outputId": "742c75b2-8006-483f-d6ea-b2ec8cd916e7"
   },
   "outputs": [
    {
     "data": {
      "text/plain": [
       "0.6237588064383528"
      ]
     },
     "execution_count": 90,
     "metadata": {},
     "output_type": "execute_result"
    }
   ],
   "source": [
    "\n",
    "y_pob=decision_tree.predict_proba(X_test)\n",
    "auprc = metrics.average_precision_score(y_test,y_pob[:,1])\n",
    "auprc"
   ]
  },
  {
   "cell_type": "code",
   "execution_count": null,
   "metadata": {
    "id": "vVJU_grmu1fC"
   },
   "outputs": [],
   "source": []
  },
  {
   "cell_type": "markdown",
   "metadata": {
    "id": "rwK8Fmb4xN_p"
   },
   "source": [
    "# Over-sampling Decision Tree (C5.0)\n",
    "The sampling strategy serve as a proportion of minority we want after over sampling the minority data . Strategy equals to 0.5 means that if the majority class had 1,000 examples and the minority class had 100, the transformed dataset would have 500 examples of the minority class."
   ]
  },
  {
   "cell_type": "code",
   "execution_count": null,
   "metadata": {
    "colab": {
     "base_uri": "https://localhost:8080/"
    },
    "executionInfo": {
     "elapsed": 635,
     "status": "ok",
     "timestamp": 1635153587236,
     "user": {
      "displayName": "Xing Ying",
      "photoUrl": "https://lh3.googleusercontent.com/a/default-user=s64",
      "userId": "06888404409835225770"
     },
     "user_tz": -480
    },
    "id": "v8BnSTGJniIF",
    "outputId": "fcdea1e6-528d-4480-b199-19f7c0081e1d"
   },
   "outputs": [
    {
     "data": {
      "text/plain": [
       "0    188080\n",
       "1     11920\n",
       "Name: fraudRisk, dtype: int64"
      ]
     },
     "execution_count": 77,
     "metadata": {},
     "output_type": "execute_result"
    }
   ],
   "source": [
    "df_sample.fraudRisk.value_counts()"
   ]
  },
  {
   "cell_type": "code",
   "execution_count": 5,
   "metadata": {
    "id": "wsFT_im-zmQv"
   },
   "outputs": [],
   "source": [
    "\n",
    "\n",
    "def DecisionTree_Over_sampling(strategy,X,y):\n",
    "\n",
    "    accuracy=[]\n",
    "    sensitivity=[]\n",
    "    auprc=[]\n",
    "    for i in strategy:\n",
    "        \n",
    "        oversample = RandomOverSampler(sampling_strategy=i)\n",
    "        # fit and apply the transform\n",
    "        X_train_over, y_train_over = oversample.fit_resample(X, y)\n",
    "\n",
    "\n",
    "        decision_tree = DecisionTreeClassifier(random_state=0, max_depth=8)\n",
    "\n",
    "        decision_tree = decision_tree.fit(X_train_over, y_train_over)\n",
    "        y_pred = decision_tree.predict(X_test)\n",
    "        accuracy.append(metrics.accuracy_score(y_test, y_pred))\n",
    "        con=confusion_matrix(y_test, y_pred)\n",
    "        sensitivity.append(con[1][1]/(con[1][1]+con[1][0]))\n",
    "\n",
    "        y_prob=decision_tree.predict_proba(X_test)\n",
    "\n",
    "        auprc.append(metrics.average_precision_score(y_test,y_prob[:,1]))\n",
    "\n",
    "    result=pd.DataFrame({\"strategy\":strategy,\"accuracy\":accuracy,\"sensitivity\":sensitivity,\"auprc\":auprc})\n",
    "\n",
    "    return result\n",
    "\n",
    "  \n",
    "\n",
    "\n",
    "\n",
    "\n",
    "\n",
    "\n"
   ]
  },
  {
   "cell_type": "code",
   "execution_count": null,
   "metadata": {
    "colab": {
     "base_uri": "https://localhost:8080/",
     "height": 465
    },
    "executionInfo": {
     "elapsed": 3286,
     "status": "ok",
     "timestamp": 1636022206817,
     "user": {
      "displayName": "Xing Ying",
      "photoUrl": "https://lh3.googleusercontent.com/a/default-user=s64",
      "userId": "06888404409835225770"
     },
     "user_tz": -480
    },
    "id": "XJmScgX-2N9I",
    "outputId": "747ed2a4-9550-4849-c803-3a5770db0773"
   },
   "outputs": [
    {
     "name": "stderr",
     "output_type": "stream",
     "text": [
      "/usr/local/lib/python3.7/dist-packages/sklearn/utils/deprecation.py:87: FutureWarning: Function safe_indexing is deprecated; safe_indexing is deprecated in version 0.22 and will be removed in version 0.24.\n",
      "  warnings.warn(msg, category=FutureWarning)\n",
      "/usr/local/lib/python3.7/dist-packages/sklearn/utils/deprecation.py:87: FutureWarning: Function safe_indexing is deprecated; safe_indexing is deprecated in version 0.22 and will be removed in version 0.24.\n",
      "  warnings.warn(msg, category=FutureWarning)\n",
      "/usr/local/lib/python3.7/dist-packages/sklearn/utils/deprecation.py:87: FutureWarning: Function safe_indexing is deprecated; safe_indexing is deprecated in version 0.22 and will be removed in version 0.24.\n",
      "  warnings.warn(msg, category=FutureWarning)\n",
      "/usr/local/lib/python3.7/dist-packages/sklearn/utils/deprecation.py:87: FutureWarning: Function safe_indexing is deprecated; safe_indexing is deprecated in version 0.22 and will be removed in version 0.24.\n",
      "  warnings.warn(msg, category=FutureWarning)\n",
      "/usr/local/lib/python3.7/dist-packages/sklearn/utils/deprecation.py:87: FutureWarning: Function safe_indexing is deprecated; safe_indexing is deprecated in version 0.22 and will be removed in version 0.24.\n",
      "  warnings.warn(msg, category=FutureWarning)\n",
      "/usr/local/lib/python3.7/dist-packages/sklearn/utils/deprecation.py:87: FutureWarning: Function safe_indexing is deprecated; safe_indexing is deprecated in version 0.22 and will be removed in version 0.24.\n",
      "  warnings.warn(msg, category=FutureWarning)\n"
     ]
    },
    {
     "data": {
      "text/html": [
       "<div>\n",
       "<style scoped>\n",
       "    .dataframe tbody tr th:only-of-type {\n",
       "        vertical-align: middle;\n",
       "    }\n",
       "\n",
       "    .dataframe tbody tr th {\n",
       "        vertical-align: top;\n",
       "    }\n",
       "\n",
       "    .dataframe thead th {\n",
       "        text-align: right;\n",
       "    }\n",
       "</style>\n",
       "<table border=\"1\" class=\"dataframe\">\n",
       "  <thead>\n",
       "    <tr style=\"text-align: right;\">\n",
       "      <th></th>\n",
       "      <th>strategy</th>\n",
       "      <th>accuracy</th>\n",
       "      <th>sensitivity</th>\n",
       "      <th>auprc</th>\n",
       "    </tr>\n",
       "  </thead>\n",
       "  <tbody>\n",
       "    <tr>\n",
       "      <th>0</th>\n",
       "      <td>0.10</td>\n",
       "      <td>0.953733</td>\n",
       "      <td>0.516057</td>\n",
       "      <td>0.621408</td>\n",
       "    </tr>\n",
       "    <tr>\n",
       "      <th>1</th>\n",
       "      <td>0.18</td>\n",
       "      <td>0.946767</td>\n",
       "      <td>0.620776</td>\n",
       "      <td>0.603744</td>\n",
       "    </tr>\n",
       "    <tr>\n",
       "      <th>2</th>\n",
       "      <td>0.20</td>\n",
       "      <td>0.944000</td>\n",
       "      <td>0.653170</td>\n",
       "      <td>0.613083</td>\n",
       "    </tr>\n",
       "    <tr>\n",
       "      <th>3</th>\n",
       "      <td>0.35</td>\n",
       "      <td>0.928000</td>\n",
       "      <td>0.744206</td>\n",
       "      <td>0.614591</td>\n",
       "    </tr>\n",
       "    <tr>\n",
       "      <th>4</th>\n",
       "      <td>0.50</td>\n",
       "      <td>0.911433</td>\n",
       "      <td>0.805641</td>\n",
       "      <td>0.615137</td>\n",
       "    </tr>\n",
       "    <tr>\n",
       "      <th>5</th>\n",
       "      <td>1.00</td>\n",
       "      <td>0.867150</td>\n",
       "      <td>0.881318</td>\n",
       "      <td>0.615005</td>\n",
       "    </tr>\n",
       "  </tbody>\n",
       "</table>\n",
       "</div>"
      ],
      "text/plain": [
       "   strategy  accuracy  sensitivity     auprc\n",
       "0      0.10  0.953733     0.516057  0.621408\n",
       "1      0.18  0.946767     0.620776  0.603744\n",
       "2      0.20  0.944000     0.653170  0.613083\n",
       "3      0.35  0.928000     0.744206  0.614591\n",
       "4      0.50  0.911433     0.805641  0.615137\n",
       "5      1.00  0.867150     0.881318  0.615005"
      ]
     },
     "execution_count": 19,
     "metadata": {},
     "output_type": "execute_result"
    }
   ],
   "source": [
    "strategy=[0.1,0.18,0.2,0.35,0.5,1]\n",
    "result=DecisionTree_Over_sampling(strategy,X_train,y_train)\n",
    "result"
   ]
  },
  {
   "cell_type": "markdown",
   "metadata": {
    "id": "LLXc3p1Zgpur"
   },
   "source": [
    "Sampling atrategy of 0.1 is chosen as the auprc increased the most and the increase in sensitivity did not compromise the precision value as the similar auprc value and high sensitivity in other strategies indicates that the precision has decrease by alot."
   ]
  },
  {
   "cell_type": "code",
   "execution_count": null,
   "metadata": {
    "colab": {
     "base_uri": "https://localhost:8080/"
    },
    "executionInfo": {
     "elapsed": 296,
     "status": "ok",
     "timestamp": 1636021825918,
     "user": {
      "displayName": "Xing Ying",
      "photoUrl": "https://lh3.googleusercontent.com/a/default-user=s64",
      "userId": "06888404409835225770"
     },
     "user_tz": -480
    },
    "id": "6ov9G9dCqfUJ",
    "outputId": "e03b2112-a464-4d18-966f-a8aaefdf4395"
   },
   "outputs": [
    {
     "name": "stderr",
     "output_type": "stream",
     "text": [
      "/usr/local/lib/python3.7/dist-packages/sklearn/utils/deprecation.py:87: FutureWarning: Function safe_indexing is deprecated; safe_indexing is deprecated in version 0.22 and will be removed in version 0.24.\n",
      "  warnings.warn(msg, category=FutureWarning)\n"
     ]
    },
    {
     "data": {
      "text/plain": [
       "59247"
      ]
     },
     "execution_count": 17,
     "metadata": {},
     "output_type": "execute_result"
    }
   ],
   "source": [
    "oversample = RandomOverSampler(sampling_strategy=0.45)\n",
    "# fit and apply the transform\n",
    "X_over, y_over = oversample.fit_resample(X_train, y_train)\n",
    "# summarize class distributi\n",
    "Counter(y_over)[1]"
   ]
  },
  {
   "cell_type": "code",
   "execution_count": null,
   "metadata": {
    "id": "RGD_kS59tUMp"
   },
   "outputs": [],
   "source": [
    "\n",
    "X_train_over, X_test_over, y_train_over, y_test_over = train_test_split(X_over, y_over, test_size=0.3, random_state=1)"
   ]
  },
  {
   "cell_type": "code",
   "execution_count": null,
   "metadata": {
    "colab": {
     "base_uri": "https://localhost:8080/"
    },
    "executionInfo": {
     "elapsed": 1150,
     "status": "ok",
     "timestamp": 1635323271387,
     "user": {
      "displayName": "Xing Ying",
      "photoUrl": "https://lh3.googleusercontent.com/a/default-user=s64",
      "userId": "06888404409835225770"
     },
     "user_tz": -480
    },
    "id": "Y71_cGKBqfWm",
    "outputId": "54dbad9e-2641-4b00-e19d-743616fdbd58"
   },
   "outputs": [
    {
     "name": "stdout",
     "output_type": "stream",
     "text": [
      "Accuracy: 0.8916335635274705\n"
     ]
    }
   ],
   "source": [
    "\n",
    "decision_tree = DecisionTreeClassifier(random_state=0, max_depth=8)\n",
    "decision_tree = decision_tree.fit(X_train_over, y_train_over)\n",
    "\n",
    "y_pred = decision_tree.predict(X_test_over)\n",
    "print(\"Accuracy:\",metrics.accuracy_score(y_test_over, y_pred))"
   ]
  },
  {
   "cell_type": "code",
   "execution_count": null,
   "metadata": {
    "colab": {
     "base_uri": "https://localhost:8080/"
    },
    "executionInfo": {
     "elapsed": 520,
     "status": "ok",
     "timestamp": 1635323295540,
     "user": {
      "displayName": "Xing Ying",
      "photoUrl": "https://lh3.googleusercontent.com/a/default-user=s64",
      "userId": "06888404409835225770"
     },
     "user_tz": -480
    },
    "id": "MlZKTSILwJoN",
    "outputId": "e9d4f6f6-400d-4357-e439-1da132e36c64"
   },
   "outputs": [
    {
     "name": "stdout",
     "output_type": "stream",
     "text": [
      "[[52287  4231]\n",
      " [ 4635 20662]]\n"
     ]
    },
    {
     "data": {
      "text/plain": [
       "0.8167766928884848"
      ]
     },
     "execution_count": 96,
     "metadata": {},
     "output_type": "execute_result"
    }
   ],
   "source": [
    "from sklearn.metrics import classification_report, confusion_matrix\n",
    "print(confusion_matrix(y_test_over, y_pred))\n",
    "con=confusion_matrix(y_test_over, y_pred)\n",
    "sensitivity=con[1][1]/(con[1][1]+con[1][0])\n",
    "sensitivity"
   ]
  },
  {
   "cell_type": "code",
   "execution_count": null,
   "metadata": {
    "colab": {
     "base_uri": "https://localhost:8080/"
    },
    "executionInfo": {
     "elapsed": 582,
     "status": "ok",
     "timestamp": 1635323298198,
     "user": {
      "displayName": "Xing Ying",
      "photoUrl": "https://lh3.googleusercontent.com/a/default-user=s64",
      "userId": "06888404409835225770"
     },
     "user_tz": -480
    },
    "id": "CCVndtmQvGSA",
    "outputId": "26312ae4-6bac-49f5-f747-c3d71f36bc63"
   },
   "outputs": [
    {
     "data": {
      "text/plain": [
       "array([[0.93022217, 0.06977783],\n",
       "       [0.20694259, 0.79305741],\n",
       "       [0.99808493, 0.00191507],\n",
       "       ...,\n",
       "       [0.99808493, 0.00191507],\n",
       "       [0.98241436, 0.01758564],\n",
       "       [0.63636364, 0.36363636]])"
      ]
     },
     "execution_count": 97,
     "metadata": {},
     "output_type": "execute_result"
    }
   ],
   "source": [
    "y_prob=decision_tree.predict_proba(X_test_over)\n",
    "y_prob"
   ]
  },
  {
   "cell_type": "code",
   "execution_count": null,
   "metadata": {
    "colab": {
     "base_uri": "https://localhost:8080/"
    },
    "executionInfo": {
     "elapsed": 13,
     "status": "ok",
     "timestamp": 1635323300351,
     "user": {
      "displayName": "Xing Ying",
      "photoUrl": "https://lh3.googleusercontent.com/a/default-user=s64",
      "userId": "06888404409835225770"
     },
     "user_tz": -480
    },
    "id": "0asz65sVu91I",
    "outputId": "eecdfd03-39ac-4bf9-a822-452679bae103"
   },
   "outputs": [
    {
     "data": {
      "text/plain": [
       "0.8996188973853909"
      ]
     },
     "execution_count": 98,
     "metadata": {},
     "output_type": "execute_result"
    }
   ],
   "source": [
    "auprc = metrics.average_precision_score(y_test_over,y_prob[:,1])\n",
    "auprc"
   ]
  },
  {
   "cell_type": "code",
   "execution_count": null,
   "metadata": {
    "id": "eAbIZCDQ9vqF"
   },
   "outputs": [],
   "source": []
  },
  {
   "cell_type": "markdown",
   "metadata": {
    "id": "yEjW5va99wD1"
   },
   "source": [
    "# Cost-Sensitive Decision Tree (C5.0)"
   ]
  },
  {
   "cell_type": "code",
   "execution_count": 6,
   "metadata": {
    "id": "IfTqBVLK4Grw"
   },
   "outputs": [],
   "source": [
    "def Cost_sensitive_Decision_Tree(weights,X,y):\n",
    "\n",
    "    accuracy=[]\n",
    "    sensitivity=[]\n",
    "    auprc=[]\n",
    "    for i in weights:\n",
    "        \n",
    "        decision_tree = DecisionTreeClassifier(random_state=0,class_weight=i, max_depth=8)\n",
    "        decision_tree = decision_tree.fit(X_train, y_train)\n",
    "        y_pred = decision_tree.predict(X_test)\n",
    "        accuracy.append(metrics.accuracy_score(y_test, y_pred))\n",
    "        con=confusion_matrix(y_test, y_pred)\n",
    "        sensitivity.append(con[1][1]/(con[1][1]+con[1][0]))\n",
    "        y_prob=decision_tree.predict_proba(X_test)\n",
    "        auprc.append(metrics.average_precision_score(y_test,y_prob[:,1]))\n",
    "\n",
    "    result=pd.DataFrame({\"weights\":weights,\"accuracy\":accuracy,\"sensitivity\":sensitivity,\"auprc\":auprc})\n",
    "\n",
    "    return result\n",
    "\n",
    "\n",
    "\n",
    "  \n"
   ]
  },
  {
   "cell_type": "code",
   "execution_count": null,
   "metadata": {
    "colab": {
     "base_uri": "https://localhost:8080/",
     "height": 237
    },
    "executionInfo": {
     "elapsed": 3185,
     "status": "ok",
     "timestamp": 1635323314936,
     "user": {
      "displayName": "Xing Ying",
      "photoUrl": "https://lh3.googleusercontent.com/a/default-user=s64",
      "userId": "06888404409835225770"
     },
     "user_tz": -480
    },
    "id": "wY4Klm9N9CJ6",
    "outputId": "ec301edb-9c69-4680-d2c6-64dba303ffc0"
   },
   "outputs": [
    {
     "data": {
      "text/html": [
       "<div>\n",
       "<style scoped>\n",
       "    .dataframe tbody tr th:only-of-type {\n",
       "        vertical-align: middle;\n",
       "    }\n",
       "\n",
       "    .dataframe tbody tr th {\n",
       "        vertical-align: top;\n",
       "    }\n",
       "\n",
       "    .dataframe thead th {\n",
       "        text-align: right;\n",
       "    }\n",
       "</style>\n",
       "<table border=\"1\" class=\"dataframe\">\n",
       "  <thead>\n",
       "    <tr style=\"text-align: right;\">\n",
       "      <th></th>\n",
       "      <th>weights</th>\n",
       "      <th>accuracy</th>\n",
       "      <th>sensitivity</th>\n",
       "      <th>auprc</th>\n",
       "    </tr>\n",
       "  </thead>\n",
       "  <tbody>\n",
       "    <tr>\n",
       "      <th>0</th>\n",
       "      <td>{0: 1, 1: 2}</td>\n",
       "      <td>0.951483</td>\n",
       "      <td>0.582293</td>\n",
       "      <td>0.621497</td>\n",
       "    </tr>\n",
       "    <tr>\n",
       "      <th>1</th>\n",
       "      <td>{0: 1, 1: 3}</td>\n",
       "      <td>0.947017</td>\n",
       "      <td>0.650847</td>\n",
       "      <td>0.633354</td>\n",
       "    </tr>\n",
       "    <tr>\n",
       "      <th>2</th>\n",
       "      <td>{0: 1, 1: 5}</td>\n",
       "      <td>0.929183</td>\n",
       "      <td>0.746045</td>\n",
       "      <td>0.626476</td>\n",
       "    </tr>\n",
       "    <tr>\n",
       "      <th>3</th>\n",
       "      <td>{0: 1, 1: 10}</td>\n",
       "      <td>0.899883</td>\n",
       "      <td>0.833472</td>\n",
       "      <td>0.624639</td>\n",
       "    </tr>\n",
       "    <tr>\n",
       "      <th>4</th>\n",
       "      <td>{0: 1, 1: 15}</td>\n",
       "      <td>0.862250</td>\n",
       "      <td>0.890647</td>\n",
       "      <td>0.611111</td>\n",
       "    </tr>\n",
       "    <tr>\n",
       "      <th>5</th>\n",
       "      <td>{0: 1, 1: 30}</td>\n",
       "      <td>0.831217</td>\n",
       "      <td>0.925340</td>\n",
       "      <td>0.610760</td>\n",
       "    </tr>\n",
       "  </tbody>\n",
       "</table>\n",
       "</div>"
      ],
      "text/plain": [
       "         weights  accuracy  sensitivity     auprc\n",
       "0   {0: 1, 1: 2}  0.951483     0.582293  0.621497\n",
       "1   {0: 1, 1: 3}  0.947017     0.650847  0.633354\n",
       "2   {0: 1, 1: 5}  0.929183     0.746045  0.626476\n",
       "3  {0: 1, 1: 10}  0.899883     0.833472  0.624639\n",
       "4  {0: 1, 1: 15}  0.862250     0.890647  0.611111\n",
       "5  {0: 1, 1: 30}  0.831217     0.925340  0.610760"
      ]
     },
     "execution_count": 100,
     "metadata": {},
     "output_type": "execute_result"
    }
   ],
   "source": [
    "weights =[{0:1, 1:2},{0:1, 1:3},{0:1, 1:5}, {0:1, 1:10},{0:1, 1:15},{0:1, 1:30}]\n",
    "result=Cost_sensitive_Decision_Tree(weights,X_train,y_train)\n",
    "result"
   ]
  },
  {
   "cell_type": "markdown",
   "metadata": {
    "id": "k20BSoSJUr_r"
   },
   "source": [
    "### Weight chosen: {0: 1, 1: 3}\n",
    "### AUPRC is the highest"
   ]
  },
  {
   "cell_type": "code",
   "execution_count": null,
   "metadata": {
    "colab": {
     "base_uri": "https://localhost:8080/"
    },
    "executionInfo": {
     "elapsed": 718,
     "status": "ok",
     "timestamp": 1635323318371,
     "user": {
      "displayName": "Xing Ying",
      "photoUrl": "https://lh3.googleusercontent.com/a/default-user=s64",
      "userId": "06888404409835225770"
     },
     "user_tz": -480
    },
    "id": "mIc1sLix4GuG",
    "outputId": "bb67b3bf-811a-432a-b3ea-7dd7615e895c"
   },
   "outputs": [
    {
     "name": "stdout",
     "output_type": "stream",
     "text": [
      "Accuracy: 0.9470166666666666\n"
     ]
    }
   ],
   "source": [
    "weights = {0:1, 1:3}\n",
    "decision_tree = DecisionTreeClassifier(random_state=0,class_weight=weights, max_depth=8)\n",
    "decision_tree = decision_tree.fit(X_train, y_train)\n",
    "\n",
    "y_pred = decision_tree.predict(X_test)\n",
    "print(\"Accuracy:\",metrics.accuracy_score(y_test, y_pred))"
   ]
  },
  {
   "cell_type": "code",
   "execution_count": null,
   "metadata": {
    "colab": {
     "base_uri": "https://localhost:8080/"
    },
    "executionInfo": {
     "elapsed": 486,
     "status": "ok",
     "timestamp": 1635323342658,
     "user": {
      "displayName": "Xing Ying",
      "photoUrl": "https://lh3.googleusercontent.com/a/default-user=s64",
      "userId": "06888404409835225770"
     },
     "user_tz": -480
    },
    "id": "AMaUCtyZ6ab-",
    "outputId": "9359d368-6957-4afe-8e2f-1b19b71254a8"
   },
   "outputs": [
    {
     "name": "stdout",
     "output_type": "stream",
     "text": [
      "[[54476  1921]\n",
      " [ 1258  2345]]\n"
     ]
    },
    {
     "data": {
      "text/plain": [
       "0.6508465167915626"
      ]
     },
     "execution_count": 102,
     "metadata": {},
     "output_type": "execute_result"
    }
   ],
   "source": [
    "\n",
    "print(confusion_matrix(y_test, y_pred))\n",
    "con=confusion_matrix(y_test, y_pred)\n",
    "sensitivity=con[1][1]/(con[1][1]+con[1][0])\n",
    "sensitivity"
   ]
  },
  {
   "cell_type": "code",
   "execution_count": null,
   "metadata": {
    "colab": {
     "base_uri": "https://localhost:8080/"
    },
    "executionInfo": {
     "elapsed": 14,
     "status": "ok",
     "timestamp": 1635323344625,
     "user": {
      "displayName": "Xing Ying",
      "photoUrl": "https://lh3.googleusercontent.com/a/default-user=s64",
      "userId": "06888404409835225770"
     },
     "user_tz": -480
    },
    "id": "l1v5Gk1U6elm",
    "outputId": "34d2a530-8670-4523-e292-580f5d76df71"
   },
   "outputs": [
    {
     "data": {
      "text/plain": [
       "0.6333544755739018"
      ]
     },
     "execution_count": 103,
     "metadata": {},
     "output_type": "execute_result"
    }
   ],
   "source": [
    "y_prob=decision_tree.predict_proba(X_test)\n",
    "auprc = metrics.average_precision_score(y_test,y_prob[:,1])\n",
    "auprc"
   ]
  },
  {
   "cell_type": "code",
   "execution_count": null,
   "metadata": {
    "id": "lLfG0Dd6k3nD"
   },
   "outputs": [],
   "source": []
  },
  {
   "cell_type": "markdown",
   "metadata": {
    "id": "RH0qzXp-k4XT"
   },
   "source": [
    "## Changing the imbalance ratio to 10:1 while maintaining same data size of 200,000"
   ]
  },
  {
   "cell_type": "code",
   "execution_count": null,
   "metadata": {
    "colab": {
     "base_uri": "https://localhost:8080/",
     "height": 241
    },
    "executionInfo": {
     "elapsed": 1309,
     "status": "ok",
     "timestamp": 1636022370007,
     "user": {
      "displayName": "Xing Ying",
      "photoUrl": "https://lh3.googleusercontent.com/a/default-user=s64",
      "userId": "06888404409835225770"
     },
     "user_tz": -480
    },
    "id": "AEIc7WynmwFS",
    "outputId": "25b365f3-dd3d-49f4-a78a-21c62c4ecb9a"
   },
   "outputs": [
    {
     "name": "stdout",
     "output_type": "stream",
     "text": [
      "Ratio:\n",
      "10.000495022276002\n"
     ]
    },
    {
     "data": {
      "text/html": [
       "<div>\n",
       "<style scoped>\n",
       "    .dataframe tbody tr th:only-of-type {\n",
       "        vertical-align: middle;\n",
       "    }\n",
       "\n",
       "    .dataframe tbody tr th {\n",
       "        vertical-align: top;\n",
       "    }\n",
       "\n",
       "    .dataframe thead th {\n",
       "        text-align: right;\n",
       "    }\n",
       "</style>\n",
       "<table border=\"1\" class=\"dataframe\">\n",
       "  <thead>\n",
       "    <tr style=\"text-align: right;\">\n",
       "      <th></th>\n",
       "      <th>custID</th>\n",
       "      <th>gender</th>\n",
       "      <th>state</th>\n",
       "      <th>cardholder</th>\n",
       "      <th>balance</th>\n",
       "      <th>numTrans</th>\n",
       "      <th>numIntlTrans</th>\n",
       "      <th>creditLine</th>\n",
       "      <th>fraudRisk</th>\n",
       "    </tr>\n",
       "  </thead>\n",
       "  <tbody>\n",
       "    <tr>\n",
       "      <th>8854333</th>\n",
       "      <td>8854334</td>\n",
       "      <td>2</td>\n",
       "      <td>5</td>\n",
       "      <td>1</td>\n",
       "      <td>13802</td>\n",
       "      <td>6</td>\n",
       "      <td>0</td>\n",
       "      <td>45</td>\n",
       "      <td>1</td>\n",
       "    </tr>\n",
       "    <tr>\n",
       "      <th>740948</th>\n",
       "      <td>740949</td>\n",
       "      <td>1</td>\n",
       "      <td>15</td>\n",
       "      <td>1</td>\n",
       "      <td>13668</td>\n",
       "      <td>100</td>\n",
       "      <td>0</td>\n",
       "      <td>14</td>\n",
       "      <td>1</td>\n",
       "    </tr>\n",
       "    <tr>\n",
       "      <th>1219975</th>\n",
       "      <td>1219976</td>\n",
       "      <td>1</td>\n",
       "      <td>34</td>\n",
       "      <td>1</td>\n",
       "      <td>8602</td>\n",
       "      <td>14</td>\n",
       "      <td>2</td>\n",
       "      <td>28</td>\n",
       "      <td>1</td>\n",
       "    </tr>\n",
       "    <tr>\n",
       "      <th>2481255</th>\n",
       "      <td>2481256</td>\n",
       "      <td>1</td>\n",
       "      <td>19</td>\n",
       "      <td>1</td>\n",
       "      <td>21000</td>\n",
       "      <td>30</td>\n",
       "      <td>0</td>\n",
       "      <td>20</td>\n",
       "      <td>1</td>\n",
       "    </tr>\n",
       "    <tr>\n",
       "      <th>4100041</th>\n",
       "      <td>4100042</td>\n",
       "      <td>2</td>\n",
       "      <td>5</td>\n",
       "      <td>1</td>\n",
       "      <td>7000</td>\n",
       "      <td>100</td>\n",
       "      <td>9</td>\n",
       "      <td>6</td>\n",
       "      <td>1</td>\n",
       "    </tr>\n",
       "  </tbody>\n",
       "</table>\n",
       "</div>"
      ],
      "text/plain": [
       "          custID  gender  state  ...  numIntlTrans  creditLine  fraudRisk\n",
       "8854333  8854334       2      5  ...             0          45          1\n",
       "740948    740949       1     15  ...             0          14          1\n",
       "1219975  1219976       1     34  ...             2          28          1\n",
       "2481255  2481256       1     19  ...             0          20          1\n",
       "4100041  4100042       2      5  ...             9           6          1\n",
       "\n",
       "[5 rows x 9 columns]"
      ]
     },
     "execution_count": 21,
     "metadata": {},
     "output_type": "execute_result"
    }
   ],
   "source": [
    "\n",
    "\n",
    "not_fraud=df[df.fraudRisk==0].sample(n=181819)\n",
    "fraud=df[df.fraudRisk==1].sample(n=18181)\n",
    "\n",
    "df_sample_new=pd.concat([fraud,not_fraud])\n",
    "np.random.shuffle(df_sample.values)\n",
    "print(\"Ratio:\")\n",
    "print(df_sample_new.fraudRisk.value_counts()[0]/df_sample_new.fraudRisk.value_counts()[1])\n",
    "df_sample_new.head()"
   ]
  },
  {
   "cell_type": "code",
   "execution_count": null,
   "metadata": {
    "colab": {
     "base_uri": "https://localhost:8080/",
     "height": 423
    },
    "executionInfo": {
     "elapsed": 502,
     "status": "ok",
     "timestamp": 1636022372264,
     "user": {
      "displayName": "Xing Ying",
      "photoUrl": "https://lh3.googleusercontent.com/a/default-user=s64",
      "userId": "06888404409835225770"
     },
     "user_tz": -480
    },
    "id": "3AKA_powmwqS",
    "outputId": "c0550a2b-51fe-4019-bdbe-a821547fb6e0"
   },
   "outputs": [
    {
     "data": {
      "text/html": [
       "<div>\n",
       "<style scoped>\n",
       "    .dataframe tbody tr th:only-of-type {\n",
       "        vertical-align: middle;\n",
       "    }\n",
       "\n",
       "    .dataframe tbody tr th {\n",
       "        vertical-align: top;\n",
       "    }\n",
       "\n",
       "    .dataframe thead th {\n",
       "        text-align: right;\n",
       "    }\n",
       "</style>\n",
       "<table border=\"1\" class=\"dataframe\">\n",
       "  <thead>\n",
       "    <tr style=\"text-align: right;\">\n",
       "      <th></th>\n",
       "      <th>index</th>\n",
       "      <th>custID</th>\n",
       "      <th>gender</th>\n",
       "      <th>state</th>\n",
       "      <th>cardholder</th>\n",
       "      <th>balance</th>\n",
       "      <th>numTrans</th>\n",
       "      <th>numIntlTrans</th>\n",
       "      <th>creditLine</th>\n",
       "      <th>fraudRisk</th>\n",
       "    </tr>\n",
       "  </thead>\n",
       "  <tbody>\n",
       "    <tr>\n",
       "      <th>0</th>\n",
       "      <td>8854333</td>\n",
       "      <td>8854334</td>\n",
       "      <td>2</td>\n",
       "      <td>5</td>\n",
       "      <td>1</td>\n",
       "      <td>13802</td>\n",
       "      <td>6</td>\n",
       "      <td>0</td>\n",
       "      <td>45</td>\n",
       "      <td>1</td>\n",
       "    </tr>\n",
       "    <tr>\n",
       "      <th>1</th>\n",
       "      <td>740948</td>\n",
       "      <td>740949</td>\n",
       "      <td>1</td>\n",
       "      <td>15</td>\n",
       "      <td>1</td>\n",
       "      <td>13668</td>\n",
       "      <td>100</td>\n",
       "      <td>0</td>\n",
       "      <td>14</td>\n",
       "      <td>1</td>\n",
       "    </tr>\n",
       "    <tr>\n",
       "      <th>2</th>\n",
       "      <td>1219975</td>\n",
       "      <td>1219976</td>\n",
       "      <td>1</td>\n",
       "      <td>34</td>\n",
       "      <td>1</td>\n",
       "      <td>8602</td>\n",
       "      <td>14</td>\n",
       "      <td>2</td>\n",
       "      <td>28</td>\n",
       "      <td>1</td>\n",
       "    </tr>\n",
       "    <tr>\n",
       "      <th>3</th>\n",
       "      <td>2481255</td>\n",
       "      <td>2481256</td>\n",
       "      <td>1</td>\n",
       "      <td>19</td>\n",
       "      <td>1</td>\n",
       "      <td>21000</td>\n",
       "      <td>30</td>\n",
       "      <td>0</td>\n",
       "      <td>20</td>\n",
       "      <td>1</td>\n",
       "    </tr>\n",
       "    <tr>\n",
       "      <th>4</th>\n",
       "      <td>4100041</td>\n",
       "      <td>4100042</td>\n",
       "      <td>2</td>\n",
       "      <td>5</td>\n",
       "      <td>1</td>\n",
       "      <td>7000</td>\n",
       "      <td>100</td>\n",
       "      <td>9</td>\n",
       "      <td>6</td>\n",
       "      <td>1</td>\n",
       "    </tr>\n",
       "    <tr>\n",
       "      <th>...</th>\n",
       "      <td>...</td>\n",
       "      <td>...</td>\n",
       "      <td>...</td>\n",
       "      <td>...</td>\n",
       "      <td>...</td>\n",
       "      <td>...</td>\n",
       "      <td>...</td>\n",
       "      <td>...</td>\n",
       "      <td>...</td>\n",
       "      <td>...</td>\n",
       "    </tr>\n",
       "    <tr>\n",
       "      <th>199995</th>\n",
       "      <td>9779317</td>\n",
       "      <td>9779318</td>\n",
       "      <td>2</td>\n",
       "      <td>45</td>\n",
       "      <td>1</td>\n",
       "      <td>0</td>\n",
       "      <td>37</td>\n",
       "      <td>6</td>\n",
       "      <td>4</td>\n",
       "      <td>0</td>\n",
       "    </tr>\n",
       "    <tr>\n",
       "      <th>199996</th>\n",
       "      <td>4493582</td>\n",
       "      <td>4493583</td>\n",
       "      <td>1</td>\n",
       "      <td>44</td>\n",
       "      <td>1</td>\n",
       "      <td>0</td>\n",
       "      <td>17</td>\n",
       "      <td>0</td>\n",
       "      <td>3</td>\n",
       "      <td>0</td>\n",
       "    </tr>\n",
       "    <tr>\n",
       "      <th>199997</th>\n",
       "      <td>6166858</td>\n",
       "      <td>6166859</td>\n",
       "      <td>2</td>\n",
       "      <td>51</td>\n",
       "      <td>1</td>\n",
       "      <td>2848</td>\n",
       "      <td>34</td>\n",
       "      <td>0</td>\n",
       "      <td>3</td>\n",
       "      <td>0</td>\n",
       "    </tr>\n",
       "    <tr>\n",
       "      <th>199998</th>\n",
       "      <td>3366598</td>\n",
       "      <td>3366599</td>\n",
       "      <td>1</td>\n",
       "      <td>2</td>\n",
       "      <td>1</td>\n",
       "      <td>2504</td>\n",
       "      <td>13</td>\n",
       "      <td>2</td>\n",
       "      <td>3</td>\n",
       "      <td>0</td>\n",
       "    </tr>\n",
       "    <tr>\n",
       "      <th>199999</th>\n",
       "      <td>2683987</td>\n",
       "      <td>2683988</td>\n",
       "      <td>2</td>\n",
       "      <td>35</td>\n",
       "      <td>1</td>\n",
       "      <td>5000</td>\n",
       "      <td>17</td>\n",
       "      <td>0</td>\n",
       "      <td>4</td>\n",
       "      <td>0</td>\n",
       "    </tr>\n",
       "  </tbody>\n",
       "</table>\n",
       "<p>200000 rows × 10 columns</p>\n",
       "</div>"
      ],
      "text/plain": [
       "          index   custID  gender  ...  numIntlTrans  creditLine  fraudRisk\n",
       "0       8854333  8854334       2  ...             0          45          1\n",
       "1        740948   740949       1  ...             0          14          1\n",
       "2       1219975  1219976       1  ...             2          28          1\n",
       "3       2481255  2481256       1  ...             0          20          1\n",
       "4       4100041  4100042       2  ...             9           6          1\n",
       "...         ...      ...     ...  ...           ...         ...        ...\n",
       "199995  9779317  9779318       2  ...             6           4          0\n",
       "199996  4493582  4493583       1  ...             0           3          0\n",
       "199997  6166858  6166859       2  ...             0           3          0\n",
       "199998  3366598  3366599       1  ...             2           3          0\n",
       "199999  2683987  2683988       2  ...             0           4          0\n",
       "\n",
       "[200000 rows x 10 columns]"
      ]
     },
     "execution_count": 22,
     "metadata": {},
     "output_type": "execute_result"
    }
   ],
   "source": [
    "df_sample_new=df_sample_new.reset_index()\n",
    "df_sample_new\n"
   ]
  },
  {
   "cell_type": "code",
   "execution_count": null,
   "metadata": {
    "id": "NwbEWkILm3F_"
   },
   "outputs": [],
   "source": [
    "X_new=df_sample[[\"balance\",\"numTrans\",\"numIntlTrans\",\"creditLine\",\"gender\", \"state\" , \"cardholder\"]]\n",
    "y_new=df_sample.fraudRisk \n",
    "X_train_new, X_test_new, y_train_new, y_test_new = train_test_split(X_new, y_new, test_size=0.3, random_state=1)"
   ]
  },
  {
   "cell_type": "markdown",
   "metadata": {
    "id": "KvfFXiXMojG8"
   },
   "source": [
    "## Normal decision Tree"
   ]
  },
  {
   "cell_type": "code",
   "execution_count": null,
   "metadata": {
    "colab": {
     "base_uri": "https://localhost:8080/"
    },
    "executionInfo": {
     "elapsed": 861,
     "status": "ok",
     "timestamp": 1635506034477,
     "user": {
      "displayName": "Xing Ying",
      "photoUrl": "https://lh3.googleusercontent.com/a/default-user=s64",
      "userId": "06888404409835225770"
     },
     "user_tz": -480
    },
    "id": "uEqt1077oiLc",
    "outputId": "547c623f-8049-4746-e89a-5a178e6574ef"
   },
   "outputs": [
    {
     "name": "stdout",
     "output_type": "stream",
     "text": [
      "Accuracy: 0.9566166666666667\n",
      "[[55805   615]\n",
      " [ 1988  1592]]\n",
      "auprc: 0.6248621560995613\n",
      "sensitivity: 0.4446927374301676\n"
     ]
    }
   ],
   "source": [
    "decision_tree = DecisionTreeClassifier(random_state=0,max_depth=8,criterion='entropy')\n",
    "decision_tree = decision_tree.fit(X_train_new, y_train_new)\n",
    "\n",
    "y_pred = decision_tree.predict(X_test_new)\n",
    "\n",
    "con=confusion_matrix(y_test_new, y_pred)\n",
    "sensitivity=con[1][1]/(con[1][1]+con[1][0])\n",
    "y_prob=decision_tree.predict_proba(X_test_new)\n",
    "auprc = metrics.average_precision_score(y_test_new,y_prob[:,1])\n",
    "\n",
    "print(\"Accuracy:\",metrics.accuracy_score(y_test_new, y_pred))\n",
    "print(confusion_matrix(y_test_new, y_pred))\n",
    "print(\"auprc:\",auprc)\n",
    "print(\"sensitivity:\",sensitivity)\n"
   ]
  },
  {
   "cell_type": "markdown",
   "metadata": {
    "id": "X6OW-mg-pTjY"
   },
   "source": [
    "## Decision Tree with Over-sampling of strategy=0.1"
   ]
  },
  {
   "cell_type": "code",
   "execution_count": null,
   "metadata": {
    "colab": {
     "base_uri": "https://localhost:8080/"
    },
    "executionInfo": {
     "elapsed": 763,
     "status": "ok",
     "timestamp": 1636022530523,
     "user": {
      "displayName": "Xing Ying",
      "photoUrl": "https://lh3.googleusercontent.com/a/default-user=s64",
      "userId": "06888404409835225770"
     },
     "user_tz": -480
    },
    "id": "MT833mY6p0gd",
    "outputId": "5c4f851c-eb91-4ce0-8bbf-f57a28725fe1"
   },
   "outputs": [
    {
     "name": "stderr",
     "output_type": "stream",
     "text": [
      "/usr/local/lib/python3.7/dist-packages/sklearn/utils/deprecation.py:87: FutureWarning: Function safe_indexing is deprecated; safe_indexing is deprecated in version 0.22 and will be removed in version 0.24.\n",
      "  warnings.warn(msg, category=FutureWarning)\n"
     ]
    },
    {
     "name": "stdout",
     "output_type": "stream",
     "text": [
      "Accuracy: 0.95675\n",
      "auprc: 0.6598890800039856\n",
      "sensitivity: 0.5241552638927673\n",
      "[[55528   891]\n",
      " [ 1704  1877]]\n"
     ]
    }
   ],
   "source": [
    "oversample = RandomOverSampler(sampling_strategy=0.1)\n",
    "# fit and apply the transform\n",
    "X_train_over, y_train_over = oversample.fit_resample(X_train_new, y_train_new)\n",
    "\n",
    "decision_tree = DecisionTreeClassifier(random_state=0, max_depth=8,criterion='entropy')\n",
    "\n",
    "decision_tree = decision_tree.fit(X_train_over, y_train_over)\n",
    "y_pred = decision_tree.predict(X_test)\n",
    "accuracy=metrics.accuracy_score(y_test, y_pred)\n",
    "\n",
    "# print(confusion_matrix(y_test_over, y_pred))\n",
    "con=confusion_matrix(y_test, y_pred)\n",
    "sensitivity=con[1][1]/(con[1][1]+con[1][0])\n",
    "\n",
    "y_prob=decision_tree.predict_proba(X_test)\n",
    "\n",
    "auprc=metrics.average_precision_score(y_test,y_prob[:,1])\n",
    "\n",
    "print(\"Accuracy:\",accuracy)\n",
    "\n",
    "print(\"auprc:\",auprc)\n",
    "print(\"sensitivity:\",sensitivity)\n",
    "print(con)"
   ]
  },
  {
   "cell_type": "code",
   "execution_count": null,
   "metadata": {
    "id": "Od0qO5p1p0xI"
   },
   "outputs": [],
   "source": []
  },
  {
   "cell_type": "markdown",
   "metadata": {
    "id": "LJ-g3mOXvdNR"
   },
   "source": [
    "## Cost Sensitive Decision Tree with weights (1:3)"
   ]
  },
  {
   "cell_type": "code",
   "execution_count": null,
   "metadata": {
    "colab": {
     "base_uri": "https://localhost:8080/"
    },
    "executionInfo": {
     "elapsed": 835,
     "status": "ok",
     "timestamp": 1635505957590,
     "user": {
      "displayName": "Xing Ying",
      "photoUrl": "https://lh3.googleusercontent.com/a/default-user=s64",
      "userId": "06888404409835225770"
     },
     "user_tz": -480
    },
    "id": "a3jjPXFVv4J3",
    "outputId": "fa15d782-8b23-4b9a-da8b-ec5be3dc2945"
   },
   "outputs": [
    {
     "name": "stdout",
     "output_type": "stream",
     "text": [
      "Accuracy: 0.9486833333333333\n",
      "[[54619  1801]\n",
      " [ 1278  2302]]\n",
      "auprc: 0.6243795618235152\n",
      "sensitivity: 0.6430167597765363\n"
     ]
    }
   ],
   "source": [
    "weights = {0:1, 1:3}\n",
    "decision_tree = DecisionTreeClassifier(random_state=0,class_weight=weights, max_depth=8)\n",
    "decision_tree = decision_tree.fit(X_train_new, y_train_new)\n",
    "\n",
    "y_pred = decision_tree.predict(X_test_new)\n",
    "\n",
    "con=confusion_matrix(y_test_new, y_pred)\n",
    "sensitivity=con[1][1]/(con[1][1]+con[1][0])\n",
    "y_prob=decision_tree.predict_proba(X_test_new)\n",
    "auprc = metrics.average_precision_score(y_test_new,y_prob[:,1])\n",
    "\n",
    "print(\"Accuracy:\",metrics.accuracy_score(y_test_new, y_pred))\n",
    "print(confusion_matrix(y_test_new, y_pred))\n",
    "print(\"auprc:\",auprc)\n",
    "print(\"sensitivity:\",sensitivity)\n"
   ]
  },
  {
   "cell_type": "markdown",
   "metadata": {
    "id": "rATeYC7awmIo"
   },
   "source": [
    "## Noraml SVM"
   ]
  },
  {
   "cell_type": "code",
   "execution_count": null,
   "metadata": {
    "colab": {
     "base_uri": "https://localhost:8080/"
    },
    "executionInfo": {
     "elapsed": 1954434,
     "status": "ok",
     "timestamp": 1635508653800,
     "user": {
      "displayName": "Xing Ying",
      "photoUrl": "https://lh3.googleusercontent.com/a/default-user=s64",
      "userId": "06888404409835225770"
     },
     "user_tz": -480
    },
    "id": "XqrLeorqwpsl",
    "outputId": "e70b8f9d-0323-4be6-8b54-0c5663291ae7"
   },
   "outputs": [
    {
     "name": "stdout",
     "output_type": "stream",
     "text": [
      "Accuracy: 0.9514666666666667\n",
      "auprc: 0.6248621560995613\n",
      "sensitivity: 0.27150837988826815\n",
      "[[56116   304]\n",
      " [ 2608   972]]\n"
     ]
    }
   ],
   "source": [
    "\n",
    "svclassifier = SVC(C=10,probability=True)\n",
    "svclassifier.fit(X_train_new, y_train_new)\n",
    "y_pred = svclassifier.predict(X_test_new)\n",
    "accuracy=metrics.accuracy_score(y_test_new, y_pred)\n",
    "\n",
    "# print(confusion_matrix(y_test_over, y_pred))\n",
    "con=confusion_matrix(y_test_new, y_pred)\n",
    "sensitivity=con[1][1]/(con[1][1]+con[1][0])\n",
    "\n",
    "y_prob=decision_tree.predict_proba(X_test_new)\n",
    "\n",
    "auprc=metrics.average_precision_score(y_test_new,y_prob[:,1])\n",
    "\n",
    "print(\"Accuracy:\",accuracy)\n",
    "\n",
    "print(\"auprc:\",auprc)\n",
    "print(\"sensitivity:\",sensitivity)\n",
    "print(con)"
   ]
  },
  {
   "cell_type": "code",
   "execution_count": null,
   "metadata": {
    "id": "iNHRLMPA6-8x"
   },
   "outputs": [],
   "source": [
    "\n"
   ]
  },
  {
   "cell_type": "markdown",
   "metadata": {
    "id": "Rl5cqlnc7y6U"
   },
   "source": [
    "## Cost sensitive SVM with weight {1:3} "
   ]
  },
  {
   "cell_type": "code",
   "execution_count": null,
   "metadata": {
    "colab": {
     "base_uri": "https://localhost:8080/"
    },
    "executionInfo": {
     "elapsed": 2403189,
     "status": "ok",
     "timestamp": 1635511420867,
     "user": {
      "displayName": "Xing Ying",
      "photoUrl": "https://lh3.googleusercontent.com/a/default-user=s64",
      "userId": "06888404409835225770"
     },
     "user_tz": -480
    },
    "id": "zy-5L4gf7F_L",
    "outputId": "8c24f120-f59e-4150-dadf-298a55090f1a"
   },
   "outputs": [
    {
     "name": "stdout",
     "output_type": "stream",
     "text": [
      "Accuracy: 0.9566166666666667\n",
      "[[55805   615]\n",
      " [ 1988  1592]]\n",
      "auprc: 0.6248621560995613\n",
      "sensitivity: 0.4446927374301676\n"
     ]
    }
   ],
   "source": [
    "weights = {0:1, 1:3}\n",
    "svclassifier = SVC(C=10,probability=True,class_weight=weights)\n",
    "svclassifier.fit(X_train_new, y_train_new)\n",
    "y_pred = decision_tree.predict(X_test_new)\n",
    "\n",
    "con=confusion_matrix(y_test_new, y_pred)\n",
    "sensitivity=con[1][1]/(con[1][1]+con[1][0])\n",
    "y_prob=decision_tree.predict_proba(X_test_new)\n",
    "auprc = metrics.average_precision_score(y_test_new,y_prob[:,1])\n",
    "\n",
    "print(\"Accuracy:\",metrics.accuracy_score(y_test_new, y_pred))\n",
    "print(confusion_matrix(y_test_new, y_pred))\n",
    "print(\"auprc:\",auprc)\n",
    "print(\"sensitivity:\",sensitivity)"
   ]
  }
 ],
 "metadata": {
  "colab": {
   "collapsed_sections": [],
   "name": "BT4012 Research paper 2.ipynb",
   "provenance": []
  },
  "kernelspec": {
   "display_name": "Python 3",
   "language": "python",
   "name": "python3"
  },
  "language_info": {
   "codemirror_mode": {
    "name": "ipython",
    "version": 3
   },
   "file_extension": ".py",
   "mimetype": "text/x-python",
   "name": "python",
   "nbconvert_exporter": "python",
   "pygments_lexer": "ipython3",
   "version": "3.7.6"
  }
 },
 "nbformat": 4,
 "nbformat_minor": 1
}
